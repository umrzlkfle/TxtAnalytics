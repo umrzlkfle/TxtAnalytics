{
 "cells": [
  {
   "cell_type": "markdown",
   "id": "8499fc98-775a-49aa-b412-2643244a52f5",
   "metadata": {},
   "source": [
    "### Working with Text Data"
   ]
  },
  {
   "cell_type": "code",
   "execution_count": 8,
   "id": "75d5d8cb-8b81-4cc5-97e8-bd42cfeb950b",
   "metadata": {},
   "outputs": [
    {
     "name": "stdout",
     "output_type": "stream",
     "text": [
      "Raw Text:\n",
      " Hello, this is a sample text file.\n",
      "This is the second line.\n"
     ]
    }
   ],
   "source": [
    "# Read the content of the text file \n",
    "with open('sample.txt', 'r', encoding='utf-8') as file: \n",
    "    text_data = file.read() \n",
    "    print(\"Raw Text:\\n\", text_data)\n",
    "\n",
    "# Store in another file\n",
    "with open('stored_text.txt', 'w', encoding='utf-8') as file: \n",
    "    file.write(text_data) "
   ]
  },
  {
   "cell_type": "markdown",
   "id": "4ec42515-de51-4da2-b9c5-346de375392f",
   "metadata": {},
   "source": [
    "### Working with CSV File"
   ]
  },
  {
   "cell_type": "code",
   "execution_count": 9,
   "id": "a3e19845-cf82-4a75-90d7-7602aeb0342b",
   "metadata": {},
   "outputs": [
    {
     "name": "stdout",
     "output_type": "stream",
     "text": [
      "Reviews:\n",
      " 0    The product is amazing!\n",
      "1     Worst experience ever!\n",
      "Name: Review, dtype: object\n"
     ]
    }
   ],
   "source": [
    "import pandas as pd \n",
    "# Read the CSV file \n",
    "df = pd.read_csv('reviews.csv') \n",
    "print(\"Reviews:\\n\", df['Review'].head()) \n",
    "# Save the reviews column to a text file \n",
    "df['Review'].to_csv('stored_reviews.txt', index=False, header=False) "
   ]
  },
  {
   "cell_type": "markdown",
   "id": "c52e151f-0335-46c5-be1b-76e9d7095950",
   "metadata": {},
   "source": [
    "### Working with Excel File"
   ]
  },
  {
   "cell_type": "code",
   "execution_count": 10,
   "id": "68bf0dbf-c44f-4c2c-985a-99a2dd5dbd81",
   "metadata": {},
   "outputs": [
    {
     "name": "stdout",
     "output_type": "stream",
     "text": [
      "First two rows:\n",
      "    ID                   Review\n",
      "0   1  The product is amazing!\n",
      "1   2   Worst experience ever!\n"
     ]
    }
   ],
   "source": [
    "# Read the Excel file \n",
    "df_excel = pd.read_excel('reviews.xlsx', engine='openpyxl') \n",
    "print(\"First two rows:\\n\", df_excel.head(2)) \n",
    "# Save the first two rows to a text file \n",
    "df_excel.head(2).to_csv('extracted_excel.txt', index=False)"
   ]
  },
  {
   "cell_type": "markdown",
   "id": "49b23235-51f8-402c-98b0-5b08f570255c",
   "metadata": {},
   "source": [
    "### Working with JSON File"
   ]
  },
  {
   "cell_type": "code",
   "execution_count": 11,
   "id": "7b99a4fe-739d-48b7-970d-03ce0e63e114",
   "metadata": {},
   "outputs": [
    {
     "name": "stdout",
     "output_type": "stream",
     "text": [
      "Extracted City: New York\n"
     ]
    }
   ],
   "source": [
    "import json \n",
    " \n",
    "# Read the JSON file \n",
    "with open('social_data.json', 'r', encoding='utf-8') as file: \n",
    "    data = json.load(file) \n",
    "print(\"Extracted City:\", data['city']) \n",
    " \n",
    "# Store the extracted city to a file \n",
    "with open('stored_city.txt', 'w', encoding='utf-8') as file: \n",
    "    file.write(data['city']) "
   ]
  },
  {
   "cell_type": "markdown",
   "id": "9aecab10-6e0f-4f1b-bbe1-7d767907a4ee",
   "metadata": {},
   "source": [
    "### Working with XML File"
   ]
  },
  {
   "cell_type": "code",
   "execution_count": 12,
   "id": "9e03fe74-e477-4baf-8467-daa71d1fd20f",
   "metadata": {},
   "outputs": [
    {
     "name": "stdout",
     "output_type": "stream",
     "text": [
      "Extracted Title: AI is transforming industries\n"
     ]
    }
   ],
   "source": [
    "import xml.etree.ElementTree as ET \n",
    " \n",
    "# Parse the XML file \n",
    "tree = ET.parse('news.xml') \n",
    "root = tree.getroot() \n",
    " \n",
    "for article in root.findall('article'): \n",
    "    title = article.find('title').text \n",
    "    print(\"Extracted Title:\", title) \n",
    " \n",
    "# Store the extracted title to a file \n",
    "with open('stored_titles.txt', 'w', encoding='utf-8') as file: \n",
    "    for article in root.findall('article'): \n",
    "        title = article.find('title').text \n",
    "        file.write(title + '\\n') "
   ]
  },
  {
   "cell_type": "markdown",
   "id": "f09ee4ac-37d7-4760-b573-c7205cc502d6",
   "metadata": {},
   "source": [
    "### Working with PDF File"
   ]
  },
  {
   "cell_type": "code",
   "execution_count": 13,
   "id": "c112ec38-3638-45d9-89cf-1f6b676f87d0",
   "metadata": {},
   "outputs": [
    {
     "name": "stdout",
     "output_type": "stream",
     "text": [
      "Requirement already satisfied: PyPDF2 in c:\\users\\asus\\anaconda3\\lib\\site-packages (3.0.1)\n",
      "Note: you may need to restart the kernel to use updated packages.\n"
     ]
    }
   ],
   "source": [
    "pip install PyPDF2"
   ]
  },
  {
   "cell_type": "code",
   "execution_count": 14,
   "id": "31a087ae-bbec-4c82-acd2-1268a8073b18",
   "metadata": {},
   "outputs": [
    {
     "name": "stdout",
     "output_type": "stream",
     "text": [
      "Extracted PDF Text:\n",
      " This is a sample PDF document.  \n",
      "AI is transforming industries and automation.  \n"
     ]
    }
   ],
   "source": [
    "import PyPDF2 \n",
    "# Read the PDF file \n",
    "with open('document.pdf', 'rb') as file: \n",
    "    reader = PyPDF2.PdfReader(file) \n",
    "    text = \"\\n\".join(page.extract_text() for page in reader.pages if page.extract_text()) \n",
    "# Print the extracted text \n",
    "print(\"Extracted PDF Text:\\n\", text) \n",
    "# Store the extracted text in a file \n",
    "with open('stored_pdf_text.txt', 'w', encoding='utf-8') as output: \n",
    "    output.write(text) "
   ]
  },
  {
   "cell_type": "markdown",
   "id": "77ea7f71-90cd-4c84-9215-66079252034a",
   "metadata": {},
   "source": [
    "### Exercise Lab 1"
   ]
  },
  {
   "cell_type": "markdown",
   "id": "573f6ea9-5a09-4ac4-bc57-5c716ad3bcd7",
   "metadata": {},
   "source": [
    "#### 1. Extract text from all pages of Business_Proposal.pdf and save it in business_proposal_all.txt"
   ]
  },
  {
   "cell_type": "code",
   "execution_count": 15,
   "id": "2f58754d-7757-4ebe-a5d6-28cb092b47e7",
   "metadata": {},
   "outputs": [
    {
     "name": "stdout",
     "output_type": "stream",
     "text": [
      "Extracted PDF Text:\n",
      " Business Proposal  \n",
      "The Revolution is Coming  \n",
      "Leverage agile frameworks to provide a robust synopsis for high level  \n",
      "overviews. Iterative approaches to corporate strategy foster collaborative  \n",
      "thinking to further the overall value proposition. Organically grow the  \n",
      "holistic world view of disruptive innovation via workplace diversity and  \n",
      "empowerment.  \n",
      "Bring to the table win -win survival strategies to ensure proactive  \n",
      "domination. At the end of the day, going forward, a new normal that has  \n",
      "evolved from generation X is on the runway heading towards a streamlined  \n",
      "cloud solution. User generated content in real -time will have multi ple \n",
      "touchpoints for offshoring.  \n",
      "Capitalize on low hanging fruit to identify a ballpark value added activity to  \n",
      "beta test. Override the digital divide with additional clickthroughs from  \n",
      "DevOps. Nanotechnology immersion along the information highway will  \n",
      "close the loop on focusing solely on the bottom line.  \n",
      "Podcasting operational change management inside of workflows to  \n",
      "establish a framework. Taking seamless key performance indicators offline  \n",
      "to maximise the long tail. Keeping your eye on the ball while perfo rming a  \n",
      "deep dive on the start -up mentality to derive convergence on crossplatform  \n",
      "integration.  \n",
      "Collaboratively administrate empowered markets via plug -and-play \n",
      "networks. Dynamically procrastinate B2C users after installed base  \n",
      "benefits. Dramatically visua lize customer directed convergence without  \n",
      "revolutionary ROI.  \n",
      "Efficiently unleash cross -media information without cross -media value.  \n",
      "Quickly maximize timely deliverables for real -time schemas. Dramatically  \n",
      "maintain clicks -and-mortar solutions without funct ional solutio ns. \n",
      "  \n",
      "AUTHORS:  \n",
      "Amy Baker, Finance Chair, x345, abaker@ourcompany.com  \n",
      "Chris Donaldson, Accounting Dir., x621, cdonaldson@ourcompany.com  \n",
      "Erin Freeman, Sr. VP, x879, efreeman@ourcompany.com  \n"
     ]
    }
   ],
   "source": [
    "# Read the PDF file \n",
    "with open('Business_Proposal.pdf', 'rb') as file: \n",
    "    reader = PyPDF2.PdfReader(file) \n",
    "    text = \"\\n\".join(page.extract_text() for page in reader.pages if page.extract_text())\n",
    "\n",
    "# Print the extracted text \n",
    "print(\"Extracted PDF Text:\\n\", text) \n",
    "# Store the extracted text in a file \n",
    "with open('stored_pdf_text.txt', 'w', encoding='utf-8') as output: \n",
    "    output.write(text) "
   ]
  },
  {
   "cell_type": "markdown",
   "id": "04b4eb99-2ad0-46e5-a663-e34ae3a4f869",
   "metadata": {},
   "source": [
    "#### Extract text from only page 2 of Business_Proposal.pdf and save it in business_proposal_page_2.txt t"
   ]
  },
  {
   "cell_type": "code",
   "execution_count": 18,
   "id": "f6516834-f9f6-4d27-a9c5-3ce96a7ab430",
   "metadata": {},
   "outputs": [
    {
     "name": "stdout",
     "output_type": "stream",
     "text": [
      "Extracted PDF Text:\n",
      " AUTHORS:  \n",
      "Amy Baker, Finance Chair, x345, abaker@ourcompany.com  \n",
      "Chris Donaldson, Accounting Dir., x621, cdonaldson@ourcompany.com  \n",
      "Erin Freeman, Sr. VP, x879, efreeman@ourcompany.com  \n",
      "Page 2 text extraction completed.\n"
     ]
    }
   ],
   "source": [
    "import PyPDF2\n",
    "\n",
    "# Open the PDF file\n",
    "with open('Business_Proposal.pdf', 'rb') as file:\n",
    "    reader = PyPDF2.PdfReader(file)\n",
    "    \n",
    "    # Extract text from page 2 (page index 1, since it's zero-based)\n",
    "    page_2_text = reader.pages[1].extract_text() if len(reader.pages) > 1 else \"\"\n",
    "\n",
    "# Save the extracted text from page 2 into a text file\n",
    "print(\"Extracted PDF Text:\\n\", page_2_text) \n",
    "# Store the extracted text in a file \n",
    "with open('business_proposal_page_2.txt', 'w', encoding='utf-8') as output:\n",
    "    output.write(page_2_text)\n",
    "\n",
    "print(\"Page 2 text extraction completed.\")\n"
   ]
  },
  {
   "cell_type": "code",
   "execution_count": null,
   "id": "3aa405ca-c8dd-4507-a6da-38641a5050c2",
   "metadata": {},
   "outputs": [],
   "source": []
  }
 ],
 "metadata": {
  "kernelspec": {
   "display_name": "Python 3 (ipykernel)",
   "language": "python",
   "name": "python3"
  },
  "language_info": {
   "codemirror_mode": {
    "name": "ipython",
    "version": 3
   },
   "file_extension": ".py",
   "mimetype": "text/x-python",
   "name": "python",
   "nbconvert_exporter": "python",
   "pygments_lexer": "ipython3",
   "version": "3.12.4"
  }
 },
 "nbformat": 4,
 "nbformat_minor": 5
}
