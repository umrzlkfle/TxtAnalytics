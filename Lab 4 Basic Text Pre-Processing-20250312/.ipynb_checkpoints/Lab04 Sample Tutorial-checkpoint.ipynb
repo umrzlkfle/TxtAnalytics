{
 "cells": [
  {
   "cell_type": "markdown",
   "id": "40a607a0-41a5-4cc7-800b-949a1fb80569",
   "metadata": {},
   "source": [
    "## Step 1: Read the source data"
   ]
  },
  {
   "cell_type": "code",
   "execution_count": 5,
   "id": "380cd3fd-5e5b-4b93-b08a-0adb0aa5f2db",
   "metadata": {},
   "outputs": [],
   "source": [
    "#Load Datasets\n",
    "import pandas as pd\n",
    "file_path = \"Review.csv\"\n",
    "df = pd.read_csv(file_path)"
   ]
  },
  {
   "cell_type": "code",
   "execution_count": 6,
   "id": "144a5413-c4e6-4c5d-8a0f-9aaf114b9106",
   "metadata": {},
   "outputs": [
    {
     "name": "stdout",
     "output_type": "stream",
     "text": [
      "                                                                           Review\n",
      "0   The product arrived on time. Packaging was great, and the quality is amazing!\n",
      "1                                        THIS PRODUCT IS JUST AMAZING! I LOVE IT.\n",
      "2     I bought this phone for $799, and it has a 120Hz display. Totally worth it!\n",
      "3                         Wow!!! This product is awesome... but a bit expensive??\n",
      "4                                             The laptop works perfectly fine.   \n",
      "5    Check out the full product details here: https://example.com/product-details\n",
      "6         <div><h2>Great Purchase!</h2><p>I am happy with this product.</p></div>\n",
      "7                The battry life is excelent, but the chargin cable is too short.\n",
      "8                       I can't believe it's so good! Didn't expect such quality.\n",
      "9                   Love this product! ???? Fast delivery ??, amazing quality! ??\n",
      "10                       TBH, I wasn’t expecting much, but OMG, this is awesome!!\n",
      "11                          This is the best product I have ever used in my life!\n",
      "12  The shoes were comfortable, fitting nicely, and worked perfectly for jogging.\n"
     ]
    }
   ],
   "source": [
    "# Display column content without truncation\n",
    "pd.set_option('display.max_colwidth', None) #Set to None for unlimited width\n",
    "print(df)"
   ]
  },
  {
   "cell_type": "markdown",
   "id": "ebaa0b93-c80a-4cf8-b4f9-a8a7be554058",
   "metadata": {},
   "source": [
    "## Step 2: Performing Text Pre-Processing"
   ]
  },
  {
   "cell_type": "markdown",
   "id": "c15eb10d-3912-4b70-bee7-edb4d346f89f",
   "metadata": {},
   "source": [
    "#### a. Convert text to lowercase"
   ]
  },
  {
   "cell_type": "code",
   "execution_count": 9,
   "id": "bfa56f43-5055-4009-a4e4-c728e066e34d",
   "metadata": {},
   "outputs": [
    {
     "name": "stdout",
     "output_type": "stream",
     "text": [
      "0     the product arrived on time. packaging was great, and the quality is amazing!\n",
      "1                                          this product is just amazing! i love it.\n",
      "2       i bought this phone for $799, and it has a 120hz display. totally worth it!\n",
      "3                           wow!!! this product is awesome... but a bit expensive??\n",
      "4                                               the laptop works perfectly fine.   \n",
      "5      check out the full product details here: https://example.com/product-details\n",
      "6           <div><h2>great purchase!</h2><p>i am happy with this product.</p></div>\n",
      "7                  the battry life is excelent, but the chargin cable is too short.\n",
      "8                         i can't believe it's so good! didn't expect such quality.\n",
      "9                     love this product! ???? fast delivery ??, amazing quality! ??\n",
      "10                         tbh, i wasn’t expecting much, but omg, this is awesome!!\n",
      "11                            this is the best product i have ever used in my life!\n",
      "12    the shoes were comfortable, fitting nicely, and worked perfectly for jogging.\n",
      "Name: lowercased, dtype: object\n"
     ]
    }
   ],
   "source": [
    "#Lowercase conversion\n",
    "def convert_to_lowercase(text):\n",
    "    return text.lower()\n",
    "\n",
    "df[\"lowercased\"] = df[\"Review\"].apply(convert_to_lowercase)\n",
    "\n",
    "# Display column content without truncation\n",
    "pd.set_option('display.max_colwidth', None) #Set to None for unlimited width\n",
    "print(df[\"lowercased\"])"
   ]
  },
  {
   "cell_type": "markdown",
   "id": "005eddb3-68f9-4d0c-b2cd-49d83776730f",
   "metadata": {},
   "source": [
    "#### b. Removal of URLs"
   ]
  },
  {
   "cell_type": "code",
   "execution_count": 10,
   "id": "0387ab86-2f70-4e80-a7c0-dd44ad1cd1b1",
   "metadata": {},
   "outputs": [
    {
     "name": "stdout",
     "output_type": "stream",
     "text": [
      "0     the product arrived on time. packaging was great, and the quality is amazing!\n",
      "1                                          this product is just amazing! i love it.\n",
      "2       i bought this phone for $799, and it has a 120hz display. totally worth it!\n",
      "3                           wow!!! this product is awesome... but a bit expensive??\n",
      "4                                               the laptop works perfectly fine.   \n",
      "5                                         check out the full product details here: \n",
      "6           <div><h2>great purchase!</h2><p>i am happy with this product.</p></div>\n",
      "7                  the battry life is excelent, but the chargin cable is too short.\n",
      "8                         i can't believe it's so good! didn't expect such quality.\n",
      "9                     love this product! ???? fast delivery ??, amazing quality! ??\n",
      "10                         tbh, i wasn’t expecting much, but omg, this is awesome!!\n",
      "11                            this is the best product i have ever used in my life!\n",
      "12    the shoes were comfortable, fitting nicely, and worked perfectly for jogging.\n",
      "Name: urls_removed, dtype: object\n"
     ]
    }
   ],
   "source": [
    "# Removal of URLs\n",
    "import re\n",
    "\n",
    "# remove any URLs that start with \"http\" or \"www\" from the text\n",
    "def remove_urls(text):\n",
    "    return re.sub(r'http\\S+|www\\S+', '', text)\n",
    "\n",
    "df[\"urls_removed\"] = df[\"lowercased\"].apply(remove_urls)\n",
    "\n",
    "# Display column content without truncation\n",
    "pd.set_option('display.max_colwidth', None) # Set to None for unlimited width\n",
    "print(df[\"urls_removed\"])"
   ]
  },
  {
   "cell_type": "markdown",
   "id": "a943f0c6-40a8-4367-85d8-d790bec46d89",
   "metadata": {},
   "source": [
    "#### c. Remove HTML tags"
   ]
  },
  {
   "cell_type": "code",
   "execution_count": 24,
   "id": "c99aa13b-27bb-46dc-ba87-2ee901237770",
   "metadata": {},
   "outputs": [
    {
     "name": "stdout",
     "output_type": "stream",
     "text": [
      "0     the product arrived on time. packaging was great, and the quality is amazing!\n",
      "1                                          this product is just amazing! i love it.\n",
      "2       i bought this phone for $799, and it has a 120hz display. totally worth it!\n",
      "3                           wow!!! this product is awesome... but a bit expensive??\n",
      "4                                               the laptop works perfectly fine.   \n",
      "5                                         check out the full product details here: \n",
      "6                                      great purchase!i am happy with this product.\n",
      "7                  the battry life is excelent, but the chargin cable is too short.\n",
      "8                         i can't believe it's so good! didn't expect such quality.\n",
      "9                     love this product! ???? fast delivery ??, amazing quality! ??\n",
      "10                         tbh, i wasn’t expecting much, but omg, this is awesome!!\n",
      "11                            this is the best product i have ever used in my life!\n",
      "12    the shoes were comfortable, fitting nicely, and worked perfectly for jogging.\n",
      "Name: html_removed, dtype: object\n"
     ]
    }
   ],
   "source": [
    "# Removal of HTML Tags\n",
    "from bs4 import BeautifulSoup\n",
    "\n",
    "# Extracts only the text, removing all HTML tags\n",
    "def remove_html_tags(text):\n",
    "    return BeautifulSoup(text, \"html.parser\").get_text()\n",
    "\n",
    "df[\"html_removed\"] = df[\"urls_removed\"].apply(remove_html_tags)\n",
    "\n",
    "# Display column content without truncation\n",
    "pd.set_option('display.max_colwidth', None) # Set to None for unlimited width\n",
    "print(df[\"html_removed\"])"
   ]
  },
  {
   "cell_type": "markdown",
   "id": "deba2a74-c8b6-4b92-ac63-c1d44a8c4cdf",
   "metadata": {},
   "source": [
    "#### d. Remove emojis"
   ]
  },
  {
   "cell_type": "code",
   "execution_count": 25,
   "id": "2d8b20bf-09d8-411a-9877-f530f49f9c79",
   "metadata": {},
   "outputs": [
    {
     "name": "stdout",
     "output_type": "stream",
     "text": [
      "Requirement already satisfied: emoji in c:\\users\\asus\\anaconda3\\lib\\site-packages (2.14.1)\n",
      "Note: you may need to restart the kernel to use updated packages.\n"
     ]
    }
   ],
   "source": [
    "pip install emoji"
   ]
  },
  {
   "cell_type": "code",
   "execution_count": 26,
   "id": "baf0c097-9699-4a34-884d-6361c42b4e54",
   "metadata": {},
   "outputs": [
    {
     "name": "stdout",
     "output_type": "stream",
     "text": [
      "0     the product arrived on time. packaging was great, and the quality is amazing!\n",
      "1                                          this product is just amazing! i love it.\n",
      "2       i bought this phone for $799, and it has a 120hz display. totally worth it!\n",
      "3                           wow!!! this product is awesome... but a bit expensive??\n",
      "4                                               the laptop works perfectly fine.   \n",
      "5                                         check out the full product details here: \n",
      "6                                      great purchase!i am happy with this product.\n",
      "7                  the battry life is excelent, but the chargin cable is too short.\n",
      "8                         i can't believe it's so good! didn't expect such quality.\n",
      "9                     love this product! ???? fast delivery ??, amazing quality! ??\n",
      "10                         tbh, i wasn’t expecting much, but omg, this is awesome!!\n",
      "11                            this is the best product i have ever used in my life!\n",
      "12    the shoes were comfortable, fitting nicely, and worked perfectly for jogging.\n",
      "Name: emojis_removed, dtype: object\n"
     ]
    }
   ],
   "source": [
    "# Removal of emojis (if any)\n",
    "import emoji\n",
    "\n",
    "# Replace emoji with ''\n",
    "def remove_emojis(text):\n",
    "    return emoji.replace_emoji(text, replace='')\n",
    "\n",
    "df[\"emojis_removed\"] = df[\"html_removed\"].apply(remove_emojis)\n",
    "\n",
    "# Display column content without truncation\n",
    "pd.set_option('display.max_colwidth', None) # Set to None for unlimited width\n",
    "print(df[\"emojis_removed\"])"
   ]
  },
  {
   "cell_type": "markdown",
   "id": "c1c4e8b9-e39e-4927-96df-65ec144d60a5",
   "metadata": {},
   "source": [
    "#### Replace internet slang/chat words"
   ]
  },
  {
   "cell_type": "code",
   "execution_count": 28,
   "id": "ab729dc2-15a9-4a5c-b4d2-cac6521cac33",
   "metadata": {},
   "outputs": [],
   "source": [
    "# Replace internet slang/chat words \n",
    "# Dictionary of slang words and their replacements \n",
    "slang_dict = { \n",
    "\"tbh\": \"to be honest\", \n",
    "\"omg\": \"oh my god\", \n",
    "\"lol\": \"laugh out loud\", \n",
    "\"idk\": \"I don't know\", \n",
    "\"brb\": \"be right back\", \n",
    "\"btw\": \"by the way\", \n",
    "\"imo\": \"in my opinion\", \n",
    "\"smh\": \"shaking my head\", \n",
    "\"fyi\": \"for your information\", \n",
    "\"np\": \"no problem\",\n",
    "\"ikr\": \"I know right\", \n",
    "\"asap\": \"as soon as possible\", \n",
    "\"bff\": \"best friend forever\", \n",
    "\"gg\": \"good game\", \n",
    "\"hmu\": \"hit me up\", \n",
    "\"rofl\": \"rolling on the floor laughing\" ,\n",
    "\"icl\": \"I can't lie\",\n",
    "\"ts\": \"this shit\",\n",
    "\"pmo\": \"piss me off\",\n",
    "} "
   ]
  },
  {
   "cell_type": "code",
   "execution_count": 29,
   "id": "31bc45f8-0789-4a4a-9975-b5eb5191d9f9",
   "metadata": {},
   "outputs": [
    {
     "name": "stdout",
     "output_type": "stream",
     "text": [
      "0     the product arrived on time. packaging was great, and the quality is amazing!\n",
      "1                                          this product is just amazing! i love it.\n",
      "2       i bought this phone for $799, and it has a 120hz display. totally worth it!\n",
      "3                           wow!!! this product is awesome... but a bit expensive??\n",
      "4                                               the laptop works perfectly fine.   \n",
      "5                                         check out the full product details here: \n",
      "6                                      great purchase!i am happy with this product.\n",
      "7                  the battry life is excelent, but the chargin cable is too short.\n",
      "8                         i can't believe it's so good! didn't expect such quality.\n",
      "9                     love this product! ???? fast delivery ??, amazing quality! ??\n",
      "10          to be honest, i wasn’t expecting much, but oh my god, this is awesome!!\n",
      "11                            this is the best product i have ever used in my life!\n",
      "12    the shoes were comfortable, fitting nicely, and worked perfectly for jogging.\n",
      "Name: slangs_replaced, dtype: object\n"
     ]
    }
   ],
   "source": [
    "# Function to replace slang words \n",
    "def replace_slang(text): \n",
    "    # Create a list of escaped slang words \n",
    "    escaped_slang_words = []  # Empty list to store escaped slang words \n",
    " \n",
    "    for word in slang_dict.keys(): \n",
    "        escaped_word = re.escape(word)  # Ensure special characters are escaped \n",
    "        escaped_slang_words.append(escaped_word)  # Add to list \n",
    " \n",
    "    # Join the words using '|' \n",
    "    slang_pattern = r'\\b(' + '|'.join(escaped_slang_words) + r')\\b' \n",
    " \n",
    "    # Define a replacement function \n",
    "    def replace_match(match): \n",
    "        slang_word = match.group(0)  # Extract matched slang word \n",
    "        return slang_dict[slang_word.lower()]  # Replace with full form \n",
    " \n",
    "    # Use regex to replace slang words with full forms \n",
    "    replaced_text = re.sub(slang_pattern, replace_match, text, flags=re.IGNORECASE) \n",
    " \n",
    "    return replaced_text\n",
    "\n",
    "# Apply the function to the column \n",
    "df[\"slangs_replaced\"] = df[\"emojis_removed\"].apply(replace_slang) \n",
    " \n",
    "# Display column content without truncation \n",
    "pd.set_option('display.max_colwidth', None)  # Set to None for unlimited width \n",
    "print(df[\"slangs_replaced\"]) "
   ]
  },
  {
   "cell_type": "markdown",
   "id": "cf98d5ae-8756-4d8d-b20d-82be4421161a",
   "metadata": {},
   "source": [
    "#### f. Replace contractions"
   ]
  },
  {
   "cell_type": "code",
   "execution_count": 54,
   "id": "ef9195d0-fedd-472a-a7fd-84adb5cd3558",
   "metadata": {},
   "outputs": [],
   "source": [
    "# Replace Contractions \n",
    "contractions_dict = { \n",
    "\"wasn't\": \"was not\", \n",
    "\"isn't\": \"is not\", \n",
    "\"aren't\": \"are not\", \n",
    "\"weren't\": \"were not\", \n",
    "\"doesn't\": \"does not\", \n",
    "\"don't\": \"do not\", \n",
    "\"didn't\": \"did not\", \n",
    "\"can't\": \"cannot\", \n",
    "\"couldn't\": \"could not\", \n",
    "\"shouldn't\": \"should not\", \n",
    "\"wouldn't\": \"would not\", \n",
    "\"won't\": \"will not\", \n",
    "\"haven't\": \"have not\", \n",
    "\"hasn't\": \"has not\", \n",
    "\"hadn't\": \"had not\", \n",
    "\"i'm\": \"i am\", \n",
    "\"you're\": \"you are\", \n",
    "\"he's\": \"he is\", \n",
    "\"she's\": \"she is\", \n",
    "\"it's\": \"it is\", \n",
    "\"we're\": \"we are\", \n",
    "\"they're\": \"they are\", \n",
    "\"i've\": \"i have\", \n",
    "\"you've\": \"you have\", \n",
    "\"we've\": \"we have\", \n",
    "\"they've\": \"they have\", \n",
    "\"i'd\": \"i would\", \n",
    "\"you'd\": \"you would\", \n",
    "\"he'd\": \"he would\", \n",
    "\"she'd\": \"she would\", \n",
    "\"we'd\": \"we would\", \n",
    "\"they'd\": \"they would\", \n",
    "\"i'll\": \"i will\", \n",
    "\"you'll\": \"you will\", \n",
    "\"he'll\": \"he will\", \n",
    "\"she'll\": \"she will\", \n",
    "\"we'll\": \"we will\", \n",
    "\"they'll\": \"they will\", \n",
    "\"let's\": \"let us\", \n",
    "\"that's\": \"that is\", \n",
    "\"who's\": \"who is\", \n",
    "\"what's\": \"what is\", \n",
    "\"where's\": \"where is\", \n",
    "\"when's\": \"when is\", \n",
    "\"why's\": \"why is\" \n",
    "} "
   ]
  },
  {
   "cell_type": "code",
   "execution_count": 56,
   "id": "c9daef18-3d29-42db-999c-056ca2f75771",
   "metadata": {},
   "outputs": [
    {
     "name": "stdout",
     "output_type": "stream",
     "text": [
      "0     the product arrived on time. packaging was great, and the quality is amazing!\n",
      "1                                          this product is just amazing! i love it.\n",
      "2       i bought this phone for $799, and it has a 120hz display. totally worth it!\n",
      "3                           wow!!! this product is awesome... but a bit expensive??\n",
      "4                                               the laptop works perfectly fine.   \n",
      "5                                         check out the full product details here: \n",
      "6                                      great purchase!i am happy with this product.\n",
      "7                  the battry life is excelent, but the chargin cable is too short.\n",
      "8                      i cannot believe it is so good! did not expect such quality.\n",
      "9                     love this product! ???? fast delivery ??, amazing quality! ??\n",
      "10          to be honest, i wasn’t expecting much, but oh my god, this is awesome!!\n",
      "11                            this is the best product i have ever used in my life!\n",
      "12    the shoes were comfortable, fitting nicely, and worked perfectly for jogging.\n",
      "Name: contractions_replaced, dtype: object\n"
     ]
    }
   ],
   "source": [
    "# Build the regex pattern for contractions \n",
    "escaped_contractions = []  # List to store escaped contractions \n",
    "for contraction in contractions_dict.keys(): \n",
    "    escaped_contraction = re.escape(contraction)  # Escape special characters (e.g., apostrophes) \n",
    "    escaped_contractions.append(escaped_contraction)  # Add to list \n",
    "\n",
    "# Join the escaped contractions with '|' \n",
    "joined_contractions = \"|\".join(escaped_contractions) \n",
    "\n",
    "# Create a regex pattern with word boundaries (\\b) \n",
    "contractions_pattern = r'\\b(' + joined_contractions + r')\\b' \n",
    "\n",
    "# Compile the regex \n",
    "compiled_pattern = re.compile(contractions_pattern, flags=re.IGNORECASE) \n",
    "\n",
    "# Define a function to replace contractions \n",
    "def replace_contractions(text): \n",
    "    # Function to handle each match found \n",
    "    def replace_match(match): \n",
    "        matched_word = match.group(0)  # Extract matched contraction \n",
    "        lower_matched_word = matched_word.lower()  # Convert to lowercase\n",
    "        expanded_form = contractions_dict[lower_matched_word]  # Get full form from dictionary \n",
    "        return expanded_form  # Return the expanded form \n",
    "        \n",
    "    # Apply regex substitution \n",
    "    expanded_text = compiled_pattern.sub(replace_match, text) \n",
    "    return expanded_text  # Return modified text \n",
    "\n",
    "# Apply the function to a DataFrame column \n",
    "df[\"contractions_replaced\"] = df[\"slangs_replaced\"].apply(replace_contractions) \n",
    "\n",
    "# Display column content without truncation \n",
    "pd.set_option('display.max_colwidth', None)  # Set to None for unlimited width \n",
    "print(df[\"contractions_replaced\"]) "
   ]
  },
  {
   "cell_type": "markdown",
   "id": "c5f54fae-45d6-4be4-8573-3a950b68c0d7",
   "metadata": {},
   "source": [
    "#### g. Remove punctuations and special characters"
   ]
  },
  {
   "cell_type": "code",
   "execution_count": 35,
   "id": "c3449fef-acc8-4797-8650-e4666f349c2e",
   "metadata": {},
   "outputs": [
    {
     "name": "stdout",
     "output_type": "stream",
     "text": [
      "0     the product arrived on time packaging was great and the quality is amazing\n",
      "1                                         this product is just amazing i love it\n",
      "2        i bought this phone for 799 and it has a 120hz display totally worth it\n",
      "3                                wow this product is awesome but a bit expensive\n",
      "4                                             the laptop works perfectly fine   \n",
      "5                                       check out the full product details here \n",
      "6                                     great purchasei am happy with this product\n",
      "7                 the battry life is excelent but the chargin cable is too short\n",
      "8                     i cannot believe it is so good did not expect such quality\n",
      "9                             love this product  fast delivery  amazing quality \n",
      "10            to be honest i wasn’t expecting much but oh my god this is awesome\n",
      "11                          this is the best product i have ever used in my life\n",
      "12    the shoes were comfortable fitting nicely and worked perfectly for jogging\n",
      "Name: punctuations_removed, dtype: object\n"
     ]
    }
   ],
   "source": [
    "# Remove punctuations and special characters \n",
    "import string \n",
    "# Function to remove punctuation \n",
    "\n",
    "def remove_punctuation(text): \n",
    "    return text.translate(str.maketrans('', '', string.punctuation)) \n",
    "    \n",
    "# Apply the function to the column \n",
    "df[\"punctuations_removed\"] = df[\"contractions_replaced\"].apply(remove_punctuation) \n",
    "\n",
    "# Display column content without truncation \n",
    "pd.set_option('display.max_colwidth', None)  # Set to None for unlimited width \n",
    "print(df[\"punctuations_removed\"])"
   ]
  },
  {
   "cell_type": "markdown",
   "id": "2f1a9b1d-d00f-4f3a-a2a7-a3be1e06b51f",
   "metadata": {},
   "source": [
    "#### h. Remove Numbers"
   ]
  },
  {
   "cell_type": "code",
   "execution_count": 37,
   "id": "09eef7ed-ba3f-442f-b131-cbb9c44769c6",
   "metadata": {},
   "outputs": [
    {
     "name": "stdout",
     "output_type": "stream",
     "text": [
      "0     the product arrived on time packaging was great and the quality is amazing\n",
      "1                                         this product is just amazing i love it\n",
      "2              i bought this phone for  and it has a hz display totally worth it\n",
      "3                                wow this product is awesome but a bit expensive\n",
      "4                                             the laptop works perfectly fine   \n",
      "5                                       check out the full product details here \n",
      "6                                     great purchasei am happy with this product\n",
      "7                 the battry life is excelent but the chargin cable is too short\n",
      "8                     i cannot believe it is so good did not expect such quality\n",
      "9                             love this product  fast delivery  amazing quality \n",
      "10            to be honest i wasn’t expecting much but oh my god this is awesome\n",
      "11                          this is the best product i have ever used in my life\n",
      "12    the shoes were comfortable fitting nicely and worked perfectly for jogging\n",
      "Name: numbers_removed, dtype: object\n"
     ]
    }
   ],
   "source": [
    "# Remove numbers \n",
    "def remove_numbers(text): \n",
    "    return re.sub(r'\\d+', '', text)  # Removes all numeric characters \n",
    "\n",
    "# Apply the function to the column \n",
    "df[\"numbers_removed\"] = df[\"punctuations_removed\"].apply(remove_numbers) \n",
    "\n",
    "# Display column content without truncation \n",
    "pd.set_option('display.max_colwidth', None)  # Set to None for unlimited width \n",
    "print(df[\"numbers_removed\"])"
   ]
  },
  {
   "cell_type": "markdown",
   "id": "66b0ae43-236f-4eea-83ea-0c7036c26145",
   "metadata": {},
   "source": [
    "#### i. Correct spelling mistakes"
   ]
  },
  {
   "cell_type": "code",
   "execution_count": 39,
   "id": "32e0c356-c9c9-4188-8481-d86c9c426fc8",
   "metadata": {},
   "outputs": [
    {
     "name": "stdout",
     "output_type": "stream",
     "text": [
      "Collecting autocorrect\n",
      "  Downloading autocorrect-2.6.1.tar.gz (622 kB)\n",
      "     ---------------------------------------- 0.0/622.8 kB ? eta -:--:--\n",
      "     ---------------------------------------- 0.0/622.8 kB ? eta -:--:--\n",
      "     ---------------------------------------- 0.0/622.8 kB ? eta -:--:--\n",
      "     - ----------------------------------- 20.5/622.8 kB 640.0 kB/s eta 0:00:01\n",
      "     -- ---------------------------------- 41.0/622.8 kB 991.0 kB/s eta 0:00:01\n",
      "     --- --------------------------------- 61.4/622.8 kB 544.7 kB/s eta 0:00:02\n",
      "     ---- -------------------------------- 71.7/622.8 kB 491.5 kB/s eta 0:00:02\n",
      "     ----- ------------------------------ 102.4/622.8 kB 454.0 kB/s eta 0:00:02\n",
      "     -------- --------------------------- 153.6/622.8 kB 573.4 kB/s eta 0:00:01\n",
      "     ------------ ----------------------- 215.0/622.8 kB 689.6 kB/s eta 0:00:01\n",
      "     ------------ ----------------------- 215.0/622.8 kB 689.6 kB/s eta 0:00:01\n",
      "     ------------- ---------------------- 235.5/622.8 kB 625.8 kB/s eta 0:00:01\n",
      "     ---------------- ------------------- 286.7/622.8 kB 655.2 kB/s eta 0:00:01\n",
      "     ----------------- ------------------ 297.0/622.8 kB 591.2 kB/s eta 0:00:01\n",
      "     -------------------- --------------- 348.2/622.8 kB 654.9 kB/s eta 0:00:01\n",
      "     --------------------- -------------- 378.9/622.8 kB 673.9 kB/s eta 0:00:01\n",
      "     ----------------------- ------------ 409.6/622.8 kB 639.0 kB/s eta 0:00:01\n",
      "     --------------------------- -------- 481.3/622.8 kB 701.0 kB/s eta 0:00:01\n",
      "     ------------------------------ ----- 532.5/622.8 kB 726.3 kB/s eta 0:00:01\n",
      "     --------------------------------- -- 573.4/622.8 kB 735.2 kB/s eta 0:00:01\n",
      "     -----------------------------------  614.4/622.8 kB 743.1 kB/s eta 0:00:01\n",
      "     ------------------------------------ 622.8/622.8 kB 739.8 kB/s eta 0:00:00\n",
      "  Preparing metadata (setup.py): started\n",
      "  Preparing metadata (setup.py): finished with status 'done'\n",
      "Building wheels for collected packages: autocorrect\n",
      "  Building wheel for autocorrect (setup.py): started\n",
      "  Building wheel for autocorrect (setup.py): finished with status 'done'\n",
      "  Created wheel for autocorrect: filename=autocorrect-2.6.1-py3-none-any.whl size=622375 sha256=199553479e50b0e64d1bff3c094dd331c63dfae3c9c49736429ffb7a0cb1dcec\n",
      "  Stored in directory: c:\\users\\asus\\appdata\\local\\pip\\cache\\wheels\\b6\\28\\c2\\9ddf8f57f871b55b6fd0ab99c887531fb9a66e5ff236b82aee\n",
      "Successfully built autocorrect\n",
      "Installing collected packages: autocorrect\n",
      "Successfully installed autocorrect-2.6.1\n",
      "Note: you may need to restart the kernel to use updated packages.\n"
     ]
    }
   ],
   "source": [
    "pip install autocorrect"
   ]
  },
  {
   "cell_type": "code",
   "execution_count": 40,
   "id": "2bffe590-4b8a-4b7f-b91b-3258ac487164",
   "metadata": {},
   "outputs": [
    {
     "name": "stdout",
     "output_type": "stream",
     "text": [
      "0     the product arrived on time packaging was great and the quality is amazing\n",
      "1                                         this product is just amazing i love it\n",
      "2              i bought this phone for  and it has a hz display totally worth it\n",
      "3                                wow this product is awesome but a bit expensive\n",
      "4                                             the laptop works perfectly fine   \n",
      "5                                       check out the full product details here \n",
      "6                                     great purchased am happy with this product\n",
      "7              the battery life is excellent but the charging cable is too short\n",
      "8                     i cannot believe it is so good did not expect such quality\n",
      "9                             love this product  fast delivery  amazing quality \n",
      "10            to be honest i wasn’t expecting much but oh my god this is awesome\n",
      "11                          this is the best product i have ever used in my life\n",
      "12    the shoes were comfortable fitting nicely and worked perfectly for jogging\n",
      "Name: spelling_corrected, dtype: object\n"
     ]
    }
   ],
   "source": [
    "# Correct spelling mistakes\n",
    "from autocorrect import Speller\n",
    "\n",
    "# Initialize spell checker \n",
    "spell = Speller(lang='en') \n",
    "\n",
    "# Function to correct spelling \n",
    "def correct_spelling(text): \n",
    "    return spell(text)  # Apply correction \n",
    "\n",
    "# Apply the function to the column \n",
    "df[\"spelling_corrected\"] = df[\"numbers_removed\"].apply(correct_spelling) \n",
    "\n",
    "# Display column content without truncation \n",
    "pd.set_option('display.max_colwidth', None)  # Set to None for unlimited width \n",
    "print(df[\"spelling_corrected\"]) "
   ]
  },
  {
   "cell_type": "markdown",
   "id": "b767a58c-4580-4b38-814a-85969b211154",
   "metadata": {},
   "source": [
    "#### j. Remove stopwords"
   ]
  },
  {
   "cell_type": "code",
   "execution_count": 41,
   "id": "c4273ad5-d28e-42a3-998b-ebbf413f3421",
   "metadata": {},
   "outputs": [
    {
     "name": "stderr",
     "output_type": "stream",
     "text": [
      "[nltk_data] Downloading package stopwords to\n",
      "[nltk_data]     C:\\Users\\Asus\\AppData\\Roaming\\nltk_data...\n"
     ]
    },
    {
     "name": "stdout",
     "output_type": "stream",
     "text": [
      "0          product arrived time packaging great quality amazing\n",
      "1                                          product amazing love\n",
      "2                         bought phone hz display totally worth\n",
      "3                             wow product awesome bit expensive\n",
      "4                                   laptop works perfectly fine\n",
      "5                                    check full product details\n",
      "6                                 great purchased happy product\n",
      "7                   battery life excellent charging cable short\n",
      "8                            cannot believe good expect quality\n",
      "9                    love product fast delivery amazing quality\n",
      "10                  honest wasn’t expecting much oh god awesome\n",
      "11                                  best product ever used life\n",
      "12    shoes comfortable fitting nicely worked perfectly jogging\n",
      "Name: stopwords_removed, dtype: object\n"
     ]
    },
    {
     "name": "stderr",
     "output_type": "stream",
     "text": [
      "[nltk_data]   Unzipping corpora\\stopwords.zip.\n"
     ]
    }
   ],
   "source": [
    "# Remove stopwords \n",
    "import nltk\n",
    "from nltk.corpus import stopwords\n",
    "\n",
    "# Download stopwords if not already downloaded \n",
    "nltk.download('stopwords') \n",
    "\n",
    "# Define stopwords list \n",
    "stop_words = set(stopwords.words('english')) \n",
    "\n",
    "# Function to remove stopwords \n",
    "def remove_stopwords(text): \n",
    "    words = text.split()  # Split text into words \n",
    "    filtered_words = []  # Create an empty list to store words after stopword removal \n",
    "    for word in words:  # Loop through each word in the list of words \n",
    "        lower_word = word.lower()  # Convert the word to lowercase for uniform comparison \n",
    "        if lower_word not in stop_words:  # Check if the lowercase word is NOT in the stopwords list \n",
    "            filtered_words.append(word)  # If it's not a stopword, add it to the filtered list \n",
    "    return \" \".join(filtered_words)  # Join words back into a sentence \n",
    "\n",
    "# Apply the function to the column \n",
    "df[\"stopwords_removed\"] = df[\"spelling_corrected\"].apply(remove_stopwords) \n",
    "\n",
    "# Display column content without truncation \n",
    "pd.set_option('display.max_colwidth', None)  # Set to None for unlimited width \n",
    "print(df[\"stopwords_removed\"]) "
   ]
  },
  {
   "cell_type": "markdown",
   "id": "dbf30d0d-17fc-45a7-a8c5-0d27fed1103c",
   "metadata": {},
   "source": [
    "#### k. Stemming -- (Reduces words to their base root by chopping off suffixes)"
   ]
  },
  {
   "cell_type": "code",
   "execution_count": 42,
   "id": "70d3487b-4b03-4f78-9e0a-e2f8e5361b63",
   "metadata": {},
   "outputs": [
    {
     "name": "stdout",
     "output_type": "stream",
     "text": [
      "0     product arriv time packag great qualiti amaz\n",
      "1                                product amaz love\n",
      "2              bought phone hz display total worth\n",
      "3                    wow product awesom bit expens\n",
      "4                       laptop work perfectli fine\n",
      "5                        check full product detail\n",
      "6                      great purchas happi product\n",
      "7              batteri life excel charg cabl short\n",
      "8                cannot believ good expect qualiti\n",
      "9          love product fast deliveri amaz qualiti\n",
      "10         honest wasn’t expect much oh god awesom\n",
      "11                      best product ever use life\n",
      "12        shoe comfort fit nice work perfectli jog\n",
      "Name: stemmed_words, dtype: object\n"
     ]
    }
   ],
   "source": [
    "# Stemming - reduces words to their base root by chopping off suffixes \n",
    "from nltk.stem import PorterStemmer \n",
    "\n",
    "# Initialize the stemmer \n",
    "stemmer = PorterStemmer() \n",
    "\n",
    "# Function to apply stemming \n",
    "def stem_text(text): \n",
    "    if not isinstance(text, str): \n",
    "        return \"\" \n",
    "    words = text.split() \n",
    "    stemmed_words = [stemmer.stem(word) for word in words]  # Apply stemming \n",
    "    return \" \".join(stemmed_words) \n",
    "    \n",
    "# Apply the function \n",
    "df[\"stemmed_words\"] = df[\"stopwords_removed\"].apply(stem_text) \n",
    "\n",
    "# Display column content without truncation \n",
    "pd.set_option('display.max_colwidth', None)  # Set to None for unlimited width \n",
    "print(df[\"stemmed_words\"])"
   ]
  },
  {
   "cell_type": "markdown",
   "id": "d508efb4-bed2-425a-a24b-f60a7239ecda",
   "metadata": {},
   "source": [
    "#### l. Lemmatization -- (Reduces words to their base dictionary form (Lemma))"
   ]
  },
  {
   "cell_type": "code",
   "execution_count": 52,
   "id": "51ceeb1a-f453-4e5c-a802-1a1e1f5e41b2",
   "metadata": {},
   "outputs": [
    {
     "name": "stderr",
     "output_type": "stream",
     "text": [
      "[nltk_data] Downloading package wordnet to\n",
      "[nltk_data]     C:\\Users\\Asus\\AppData\\Roaming\\nltk_data...\n",
      "[nltk_data]   Package wordnet is already up-to-date!\n",
      "[nltk_data] Downloading package omw-1.4 to\n",
      "[nltk_data]     C:\\Users\\Asus\\AppData\\Roaming\\nltk_data...\n",
      "[nltk_data]   Package omw-1.4 is already up-to-date!\n",
      "[nltk_data] Downloading package averaged_perceptron_tagger_eng to\n",
      "[nltk_data]     C:\\Users\\Asus\\AppData\\Roaming\\nltk_data...\n",
      "[nltk_data]   Package averaged_perceptron_tagger_eng is already up-to-\n",
      "[nltk_data]       date!\n",
      "[nltk_data] Downloading package punkt_tab to\n",
      "[nltk_data]     C:\\Users\\Asus\\AppData\\Roaming\\nltk_data...\n",
      "[nltk_data]   Package punkt_tab is already up-to-date!\n",
      "[nltk_data] Downloading package punkt to\n",
      "[nltk_data]     C:\\Users\\Asus\\AppData\\Roaming\\nltk_data...\n",
      "[nltk_data]   Package punkt is already up-to-date!\n",
      "[nltk_data] Downloading package averaged_perceptron_tagger to\n",
      "[nltk_data]     C:\\Users\\Asus\\AppData\\Roaming\\nltk_data...\n",
      "[nltk_data]   Unzipping taggers\\averaged_perceptron_tagger.zip.\n"
     ]
    }
   ],
   "source": [
    "import nltk\n",
    "\n",
    "# Download the required resources \n",
    "nltk.download('wordnet') # For lemmatization \n",
    "nltk.download('omw-1.4') # WordNet lexical database \n",
    "nltk.download('averaged_perceptron_tagger_eng')  # For POS tagging \n",
    "nltk.download('punkt_tab') # For tokenization\n",
    "nltk.download('punkt') # For tokenization\n",
    "nltk.download('averaged_perceptron_tagger')\n",
    "\n",
    "# Lemmatization - reduces words to their base dictionary form (lemma) \n",
    "from nltk.stem import WordNetLemmatizer \n",
    "from nltk.corpus import wordnet \n",
    "from nltk.tokenize import word_tokenize \n",
    "from nltk import pos_tag"
   ]
  },
  {
   "cell_type": "code",
   "execution_count": 53,
   "id": "68e4308e-2b63-4581-87c1-d1b5fdc5a713",
   "metadata": {},
   "outputs": [
    {
     "name": "stdout",
     "output_type": "stream",
     "text": [
      "0     product arrive time packaging great quality amazing\n",
      "1                                      product amaze love\n",
      "2                      buy phone hz display totally worth\n",
      "3                       wow product awesome bit expensive\n",
      "4                              laptop work perfectly fine\n",
      "5                               check full product detail\n",
      "6                            great purchase happy product\n",
      "7               battery life excellent charge cable short\n",
      "8                     can not believe good expect quality\n",
      "9              love product fast delivery amazing quality\n",
      "10             honest wasn ’ t expect much oh god awesome\n",
      "11                             best product ever use life\n",
      "12         shoe comfortable fit nicely work perfectly jog\n",
      "Name: lemmatized, dtype: object\n"
     ]
    }
   ],
   "source": [
    "# Initialize the lemmatizer \n",
    "lemmatizer = WordNetLemmatizer() \n",
    " \n",
    "# Function to map NLTK POS tags to WordNet POS tags \n",
    "def get_wordnet_pos(nltk_tag): \n",
    "    if nltk_tag.startswith('J'):  # Adjective \n",
    "        return wordnet.ADJ \n",
    "    elif nltk_tag.startswith('V'):  # Verb \n",
    "        return wordnet.VERB \n",
    "    elif nltk_tag.startswith('N'):  # Noun \n",
    "        return wordnet.NOUN \n",
    "    elif nltk_tag.startswith('R'):  # Adverb \n",
    "        return wordnet.ADV \n",
    "    else: \n",
    "        return wordnet.NOUN  # Default to noun \n",
    " \n",
    "# Function to lemmatize text with POS tagging \n",
    "def lemmatize_text(text): \n",
    "    if not isinstance(text, str):  # Ensure input is a string \n",
    "        return \"\" \n",
    " \n",
    "    words = word_tokenize(text)  # Tokenize text into words \n",
    "    pos_tags = pos_tag(words)  # Get POS tags \n",
    "     \n",
    "    # Lemmatize each word with its correct POS tag\n",
    "    lemmatized_words = [lemmatizer.lemmatize(word, get_wordnet_pos(tag)) for word, tag in pos_tags] \n",
    "    return \" \".join(lemmatized_words)  # Join words back into a sentence \n",
    "    \n",
    "# Apply the function to the column \n",
    "df[\"lemmatized\"] = df[\"stopwords_removed\"].apply(lemmatize_text) \n",
    "\n",
    "# Display column content without truncation \n",
    "pd.set_option('display.max_colwidth', None)  # Set to None for unlimited width \n",
    "print(df[\"lemmatized\"])"
   ]
  },
  {
   "cell_type": "markdown",
   "id": "851be339-3dd7-461e-9203-c632dfe14bfa",
   "metadata": {},
   "source": [
    "### Step 3: Save the result to a file"
   ]
  },
  {
   "cell_type": "code",
   "execution_count": 59,
   "id": "f7e3e14b-dbc3-4094-a831-48da44fc365b",
   "metadata": {},
   "outputs": [
    {
     "data": {
      "text/plain": [
       "<bound method NDFrame.to_csv of                                                                            Review  \\\n",
       "0   The product arrived on time. Packaging was great, and the quality is amazing!   \n",
       "1                                        THIS PRODUCT IS JUST AMAZING! I LOVE IT.   \n",
       "2     I bought this phone for $799, and it has a 120Hz display. Totally worth it!   \n",
       "3                         Wow!!! This product is awesome... but a bit expensive??   \n",
       "4                                             The laptop works perfectly fine.      \n",
       "5    Check out the full product details here: https://example.com/product-details   \n",
       "6         <div><h2>Great Purchase!</h2><p>I am happy with this product.</p></div>   \n",
       "7                The battry life is excelent, but the chargin cable is too short.   \n",
       "8                       I can't believe it's so good! Didn't expect such quality.   \n",
       "9                   Love this product! ???? Fast delivery ??, amazing quality! ??   \n",
       "10                       TBH, I wasn’t expecting much, but OMG, this is awesome!!   \n",
       "11                          This is the best product I have ever used in my life!   \n",
       "12  The shoes were comfortable, fitting nicely, and worked perfectly for jogging.   \n",
       "\n",
       "                                                                       lowercased  \\\n",
       "0   the product arrived on time. packaging was great, and the quality is amazing!   \n",
       "1                                        this product is just amazing! i love it.   \n",
       "2     i bought this phone for $799, and it has a 120hz display. totally worth it!   \n",
       "3                         wow!!! this product is awesome... but a bit expensive??   \n",
       "4                                             the laptop works perfectly fine.      \n",
       "5    check out the full product details here: https://example.com/product-details   \n",
       "6         <div><h2>great purchase!</h2><p>i am happy with this product.</p></div>   \n",
       "7                the battry life is excelent, but the chargin cable is too short.   \n",
       "8                       i can't believe it's so good! didn't expect such quality.   \n",
       "9                   love this product! ???? fast delivery ??, amazing quality! ??   \n",
       "10                       tbh, i wasn’t expecting much, but omg, this is awesome!!   \n",
       "11                          this is the best product i have ever used in my life!   \n",
       "12  the shoes were comfortable, fitting nicely, and worked perfectly for jogging.   \n",
       "\n",
       "                                                                     urls_removed  \\\n",
       "0   the product arrived on time. packaging was great, and the quality is amazing!   \n",
       "1                                        this product is just amazing! i love it.   \n",
       "2     i bought this phone for $799, and it has a 120hz display. totally worth it!   \n",
       "3                         wow!!! this product is awesome... but a bit expensive??   \n",
       "4                                             the laptop works perfectly fine.      \n",
       "5                                       check out the full product details here:    \n",
       "6         <div><h2>great purchase!</h2><p>i am happy with this product.</p></div>   \n",
       "7                the battry life is excelent, but the chargin cable is too short.   \n",
       "8                       i can't believe it's so good! didn't expect such quality.   \n",
       "9                   love this product! ???? fast delivery ??, amazing quality! ??   \n",
       "10                       tbh, i wasn’t expecting much, but omg, this is awesome!!   \n",
       "11                          this is the best product i have ever used in my life!   \n",
       "12  the shoes were comfortable, fitting nicely, and worked perfectly for jogging.   \n",
       "\n",
       "                                                                     html_removed  \\\n",
       "0   the product arrived on time. packaging was great, and the quality is amazing!   \n",
       "1                                        this product is just amazing! i love it.   \n",
       "2     i bought this phone for $799, and it has a 120hz display. totally worth it!   \n",
       "3                         wow!!! this product is awesome... but a bit expensive??   \n",
       "4                                             the laptop works perfectly fine.      \n",
       "5                                       check out the full product details here:    \n",
       "6                                    great purchase!i am happy with this product.   \n",
       "7                the battry life is excelent, but the chargin cable is too short.   \n",
       "8                       i can't believe it's so good! didn't expect such quality.   \n",
       "9                   love this product! ???? fast delivery ??, amazing quality! ??   \n",
       "10                       tbh, i wasn’t expecting much, but omg, this is awesome!!   \n",
       "11                          this is the best product i have ever used in my life!   \n",
       "12  the shoes were comfortable, fitting nicely, and worked perfectly for jogging.   \n",
       "\n",
       "                                                                   emojis_removed  \\\n",
       "0   the product arrived on time. packaging was great, and the quality is amazing!   \n",
       "1                                        this product is just amazing! i love it.   \n",
       "2     i bought this phone for $799, and it has a 120hz display. totally worth it!   \n",
       "3                         wow!!! this product is awesome... but a bit expensive??   \n",
       "4                                             the laptop works perfectly fine.      \n",
       "5                                       check out the full product details here:    \n",
       "6                                    great purchase!i am happy with this product.   \n",
       "7                the battry life is excelent, but the chargin cable is too short.   \n",
       "8                       i can't believe it's so good! didn't expect such quality.   \n",
       "9                   love this product! ???? fast delivery ??, amazing quality! ??   \n",
       "10                       tbh, i wasn’t expecting much, but omg, this is awesome!!   \n",
       "11                          this is the best product i have ever used in my life!   \n",
       "12  the shoes were comfortable, fitting nicely, and worked perfectly for jogging.   \n",
       "\n",
       "                                                                  slangs_replaced  \\\n",
       "0   the product arrived on time. packaging was great, and the quality is amazing!   \n",
       "1                                        this product is just amazing! i love it.   \n",
       "2     i bought this phone for $799, and it has a 120hz display. totally worth it!   \n",
       "3                         wow!!! this product is awesome... but a bit expensive??   \n",
       "4                                             the laptop works perfectly fine.      \n",
       "5                                       check out the full product details here:    \n",
       "6                                    great purchase!i am happy with this product.   \n",
       "7                the battry life is excelent, but the chargin cable is too short.   \n",
       "8                       i can't believe it's so good! didn't expect such quality.   \n",
       "9                   love this product! ???? fast delivery ??, amazing quality! ??   \n",
       "10        to be honest, i wasn’t expecting much, but oh my god, this is awesome!!   \n",
       "11                          this is the best product i have ever used in my life!   \n",
       "12  the shoes were comfortable, fitting nicely, and worked perfectly for jogging.   \n",
       "\n",
       "                                                            contractions_replaced  \\\n",
       "0   the product arrived on time. packaging was great, and the quality is amazing!   \n",
       "1                                        this product is just amazing! i love it.   \n",
       "2     i bought this phone for $799, and it has a 120hz display. totally worth it!   \n",
       "3                         wow!!! this product is awesome... but a bit expensive??   \n",
       "4                                             the laptop works perfectly fine.      \n",
       "5                                       check out the full product details here:    \n",
       "6                                    great purchase!i am happy with this product.   \n",
       "7                the battry life is excelent, but the chargin cable is too short.   \n",
       "8                    i cannot believe it is so good! did not expect such quality.   \n",
       "9                   love this product! ???? fast delivery ??, amazing quality! ??   \n",
       "10        to be honest, i wasn’t expecting much, but oh my god, this is awesome!!   \n",
       "11                          this is the best product i have ever used in my life!   \n",
       "12  the shoes were comfortable, fitting nicely, and worked perfectly for jogging.   \n",
       "\n",
       "                                                          punctuations_removed  \\\n",
       "0   the product arrived on time packaging was great and the quality is amazing   \n",
       "1                                       this product is just amazing i love it   \n",
       "2      i bought this phone for 799 and it has a 120hz display totally worth it   \n",
       "3                              wow this product is awesome but a bit expensive   \n",
       "4                                           the laptop works perfectly fine      \n",
       "5                                     check out the full product details here    \n",
       "6                                   great purchasei am happy with this product   \n",
       "7               the battry life is excelent but the chargin cable is too short   \n",
       "8                   i cannot believe it is so good did not expect such quality   \n",
       "9                           love this product  fast delivery  amazing quality    \n",
       "10          to be honest i wasn’t expecting much but oh my god this is awesome   \n",
       "11                        this is the best product i have ever used in my life   \n",
       "12  the shoes were comfortable fitting nicely and worked perfectly for jogging   \n",
       "\n",
       "                                                               numbers_removed  \\\n",
       "0   the product arrived on time packaging was great and the quality is amazing   \n",
       "1                                       this product is just amazing i love it   \n",
       "2            i bought this phone for  and it has a hz display totally worth it   \n",
       "3                              wow this product is awesome but a bit expensive   \n",
       "4                                           the laptop works perfectly fine      \n",
       "5                                     check out the full product details here    \n",
       "6                                   great purchasei am happy with this product   \n",
       "7               the battry life is excelent but the chargin cable is too short   \n",
       "8                   i cannot believe it is so good did not expect such quality   \n",
       "9                           love this product  fast delivery  amazing quality    \n",
       "10          to be honest i wasn’t expecting much but oh my god this is awesome   \n",
       "11                        this is the best product i have ever used in my life   \n",
       "12  the shoes were comfortable fitting nicely and worked perfectly for jogging   \n",
       "\n",
       "                                                            spelling_corrected  \\\n",
       "0   the product arrived on time packaging was great and the quality is amazing   \n",
       "1                                       this product is just amazing i love it   \n",
       "2            i bought this phone for  and it has a hz display totally worth it   \n",
       "3                              wow this product is awesome but a bit expensive   \n",
       "4                                           the laptop works perfectly fine      \n",
       "5                                     check out the full product details here    \n",
       "6                                   great purchased am happy with this product   \n",
       "7            the battery life is excellent but the charging cable is too short   \n",
       "8                   i cannot believe it is so good did not expect such quality   \n",
       "9                           love this product  fast delivery  amazing quality    \n",
       "10          to be honest i wasn’t expecting much but oh my god this is awesome   \n",
       "11                        this is the best product i have ever used in my life   \n",
       "12  the shoes were comfortable fitting nicely and worked perfectly for jogging   \n",
       "\n",
       "                                            stopwords_removed  \\\n",
       "0        product arrived time packaging great quality amazing   \n",
       "1                                        product amazing love   \n",
       "2                       bought phone hz display totally worth   \n",
       "3                           wow product awesome bit expensive   \n",
       "4                                 laptop works perfectly fine   \n",
       "5                                  check full product details   \n",
       "6                               great purchased happy product   \n",
       "7                 battery life excellent charging cable short   \n",
       "8                          cannot believe good expect quality   \n",
       "9                  love product fast delivery amazing quality   \n",
       "10                honest wasn’t expecting much oh god awesome   \n",
       "11                                best product ever used life   \n",
       "12  shoes comfortable fitting nicely worked perfectly jogging   \n",
       "\n",
       "                                   stemmed_words  \\\n",
       "0   product arriv time packag great qualiti amaz   \n",
       "1                              product amaz love   \n",
       "2            bought phone hz display total worth   \n",
       "3                  wow product awesom bit expens   \n",
       "4                     laptop work perfectli fine   \n",
       "5                      check full product detail   \n",
       "6                    great purchas happi product   \n",
       "7            batteri life excel charg cabl short   \n",
       "8              cannot believ good expect qualiti   \n",
       "9        love product fast deliveri amaz qualiti   \n",
       "10       honest wasn’t expect much oh god awesom   \n",
       "11                    best product ever use life   \n",
       "12      shoe comfort fit nice work perfectli jog   \n",
       "\n",
       "                                             lemmatized  \n",
       "0   product arrive time packaging great quality amazing  \n",
       "1                                    product amaze love  \n",
       "2                    buy phone hz display totally worth  \n",
       "3                     wow product awesome bit expensive  \n",
       "4                            laptop work perfectly fine  \n",
       "5                             check full product detail  \n",
       "6                          great purchase happy product  \n",
       "7             battery life excellent charge cable short  \n",
       "8                   can not believe good expect quality  \n",
       "9            love product fast delivery amazing quality  \n",
       "10           honest wasn ’ t expect much oh god awesome  \n",
       "11                           best product ever use life  \n",
       "12       shoe comfortable fit nicely work perfectly jog  >"
      ]
     },
     "execution_count": 59,
     "metadata": {},
     "output_type": "execute_result"
    }
   ],
   "source": [
    "df.to_csv"
   ]
  },
  {
   "cell_type": "code",
   "execution_count": 58,
   "id": "78fd6c89-2d22-479d-8478-d55aea6890f6",
   "metadata": {},
   "outputs": [],
   "source": [
    "df.to_csv(\"Processed_Reviews.csv\", index=False) # Saves without index column"
   ]
  }
 ],
 "metadata": {
  "kernelspec": {
   "display_name": "Python 3 (ipykernel)",
   "language": "python",
   "name": "python3"
  },
  "language_info": {
   "codemirror_mode": {
    "name": "ipython",
    "version": 3
   },
   "file_extension": ".py",
   "mimetype": "text/x-python",
   "name": "python",
   "nbconvert_exporter": "python",
   "pygments_lexer": "ipython3",
   "version": "3.12.4"
  }
 },
 "nbformat": 4,
 "nbformat_minor": 5
}
