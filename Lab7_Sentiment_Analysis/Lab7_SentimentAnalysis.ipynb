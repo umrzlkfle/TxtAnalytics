{
 "cells": [
  {
   "cell_type": "code",
   "execution_count": 8,
   "id": "066cefe5-2fb2-4f81-b079-d68b5e6b8823",
   "metadata": {},
   "outputs": [
    {
     "name": "stdout",
     "output_type": "stream",
     "text": [
      "Collecting textblob\n",
      "  Downloading textblob-0.19.0-py3-none-any.whl.metadata (4.4 kB)\n",
      "Collecting nltk>=3.9 (from textblob)\n",
      "  Downloading nltk-3.9.1-py3-none-any.whl.metadata (2.9 kB)\n",
      "Requirement already satisfied: click in c:\\users\\asus\\anaconda3\\lib\\site-packages (from nltk>=3.9->textblob) (8.1.7)\n",
      "Requirement already satisfied: joblib in c:\\users\\asus\\anaconda3\\lib\\site-packages (from nltk>=3.9->textblob) (1.4.2)\n",
      "Requirement already satisfied: regex>=2021.8.3 in c:\\users\\asus\\anaconda3\\lib\\site-packages (from nltk>=3.9->textblob) (2023.10.3)\n",
      "Requirement already satisfied: tqdm in c:\\users\\asus\\anaconda3\\lib\\site-packages (from nltk>=3.9->textblob) (4.66.4)\n",
      "Requirement already satisfied: colorama in c:\\users\\asus\\anaconda3\\lib\\site-packages (from click->nltk>=3.9->textblob) (0.4.6)\n",
      "Downloading textblob-0.19.0-py3-none-any.whl (624 kB)\n",
      "   ---------------------------------------- 0.0/624.3 kB ? eta -:--:--\n",
      "    --------------------------------------- 10.2/624.3 kB ? eta -:--:--\n",
      "   --- ----------------------------------- 61.4/624.3 kB 656.4 kB/s eta 0:00:01\n",
      "   ----------------------- ---------------- 368.6/624.3 kB 2.9 MB/s eta 0:00:01\n",
      "   ---------------------------------------- 624.3/624.3 kB 3.9 MB/s eta 0:00:00\n",
      "Downloading nltk-3.9.1-py3-none-any.whl (1.5 MB)\n",
      "   ---------------------------------------- 0.0/1.5 MB ? eta -:--:--\n",
      "   ----------- ---------------------------- 0.5/1.5 MB 9.4 MB/s eta 0:00:01\n",
      "   ---------------------- ----------------- 0.9/1.5 MB 9.1 MB/s eta 0:00:01\n",
      "   ----------------------------------- ---- 1.3/1.5 MB 9.4 MB/s eta 0:00:01\n",
      "   ---------------------------------------- 1.5/1.5 MB 9.6 MB/s eta 0:00:00\n",
      "Installing collected packages: nltk, textblob\n",
      "  Attempting uninstall: nltk\n",
      "    Found existing installation: nltk 3.8.1\n",
      "    Uninstalling nltk-3.8.1:\n",
      "      Successfully uninstalled nltk-3.8.1\n",
      "Successfully installed nltk-3.9.1 textblob-0.19.0\n",
      "Note: you may need to restart the kernel to use updated packages.\n"
     ]
    }
   ],
   "source": [
    "pip install textblob"
   ]
  },
  {
   "cell_type": "code",
   "execution_count": 9,
   "id": "a2b6c99c-3495-4bbe-8007-0785002ba8df",
   "metadata": {},
   "outputs": [
    {
     "name": "stdout",
     "output_type": "stream",
     "text": [
      "Collecting vaderSentiment\n",
      "  Downloading vaderSentiment-3.3.2-py2.py3-none-any.whl.metadata (572 bytes)\n",
      "Requirement already satisfied: tabulate in c:\\users\\asus\\anaconda3\\lib\\site-packages (0.9.0)\n",
      "Requirement already satisfied: requests in c:\\users\\asus\\anaconda3\\lib\\site-packages (from vaderSentiment) (2.32.2)\n",
      "Requirement already satisfied: charset-normalizer<4,>=2 in c:\\users\\asus\\anaconda3\\lib\\site-packages (from requests->vaderSentiment) (2.0.4)\n",
      "Requirement already satisfied: idna<4,>=2.5 in c:\\users\\asus\\anaconda3\\lib\\site-packages (from requests->vaderSentiment) (3.7)\n",
      "Requirement already satisfied: urllib3<3,>=1.21.1 in c:\\users\\asus\\anaconda3\\lib\\site-packages (from requests->vaderSentiment) (2.2.2)\n",
      "Requirement already satisfied: certifi>=2017.4.17 in c:\\users\\asus\\anaconda3\\lib\\site-packages (from requests->vaderSentiment) (2025.1.31)\n",
      "Downloading vaderSentiment-3.3.2-py2.py3-none-any.whl (125 kB)\n",
      "   ---------------------------------------- 0.0/126.0 kB ? eta -:--:--\n",
      "   --- ------------------------------------ 10.2/126.0 kB ? eta -:--:--\n",
      "   --------- ----------------------------- 30.7/126.0 kB 435.7 kB/s eta 0:00:01\n",
      "   ---------------------------------------  122.9/126.0 kB 1.2 MB/s eta 0:00:01\n",
      "   ---------------------------------------- 126.0/126.0 kB 1.1 MB/s eta 0:00:00\n",
      "Installing collected packages: vaderSentiment\n",
      "Successfully installed vaderSentiment-3.3.2\n",
      "Note: you may need to restart the kernel to use updated packages.\n"
     ]
    }
   ],
   "source": [
    "pip install vaderSentiment tabulate"
   ]
  },
  {
   "cell_type": "code",
   "execution_count": 17,
   "id": "d91fa328-25c6-43f7-b5c9-ee840320e4e4",
   "metadata": {},
   "outputs": [],
   "source": [
    "from textblob import TextBlob \n",
    "from vaderSentiment.vaderSentiment import SentimentIntensityAnalyzer \n",
    "from tabulate import tabulate\n",
    "from sklearn.metrics import classification_report "
   ]
  },
  {
   "cell_type": "code",
   "execution_count": 11,
   "id": "9625121c-cbb3-4d3f-8294-67be52aedfa1",
   "metadata": {},
   "outputs": [],
   "source": [
    "data = [ \n",
    "    (\"I love this product, it's amazing!\", 'positive'), \n",
    "    (\"This product is terrible, I hate it.\", 'negative'), \n",
    "    (\"It's okay, not bad but not great either.\", 'neutral'),\n",
    "    (\"Best product ever, highly recommended!\", 'positive'), \n",
    "    (\"I'm really disappointed with the quality.\", 'negative'), \n",
    "    (\"So-so product, nothing special about it.\", 'neutral'), \n",
    "    (\"The customer service was excellent!\", 'positive'), \n",
    "    (\"I wasted my money on this useless product.\", 'negative'), \n",
    "    (\"It's not the worst, but certainly not the best.\", 'neutral'), \n",
    "    (\"I can't live without this product, it's a lifesaver!\", 'positive'), \n",
    "    (\"The product arrived damaged and unusable.\", 'negative'), \n",
    "    (\"It's average, neither good nor bad.\", 'neutral'), \n",
    "    (\"Highly disappointed with the purchase.\", 'negative'), \n",
    "    (\"The product exceeded my expectations.\", 'positive'), \n",
    "    (\"It's just okay, nothing extraordinary.\", 'neutral'), \n",
    "    (\"This product is excellent, it exceeded all my expectations!\", 'positive'), \n",
    "    (\"I regret purchasing this product, it's a waste of money.\", 'negative'), \n",
    "    (\"It's neither good nor bad, just average.\", 'neutral'), \n",
    "    (\"Outstanding customer service, highly recommended!\", 'positive'), \n",
    "    (\"I'm very disappointed with the quality of this item.\", 'negative'), \n",
    "    (\"It's not the best product, but it gets the job done.\", 'neutral'), \n",
    "    (\"This product is a game-changer, I can't imagine life without it!\", 'positive'), \n",
    "    (\"I received a defective product, very dissatisfied.\", 'negative'), \n",
    "    (\"It's neither great nor terrible, just okay.\", 'neutral'), \n",
    "    (\"Fantastic product, I would buy it again in a heartbeat!\", 'positive'), \n",
    "    (\"Avoid this product at all costs, complete waste of money.\", 'negative'), \n",
    "    (\"It's decent, but nothing extraordinary.\", 'neutral'), \n",
    "    (\"Impressive quality, exceeded my expectations!\", 'positive'), \n",
    "    (\"I'm very unhappy with this purchase, total disappointment.\", 'negative'), \n",
    "    (\"It's neither amazing nor terrible, somewhere in between.\", 'neutral') \n",
    "] "
   ]
  },
  {
   "cell_type": "code",
   "execution_count": 12,
   "id": "fc6e8f58-a3d7-4e07-9005-b8385fd52f94",
   "metadata": {},
   "outputs": [],
   "source": [
    "table_data = [[\"Text\", \"Actual Label\", \"TextBlob Polarity\", \"TextBlob Sentiment\", \"VADER Compound\", \"VADER Sentiment\"]]"
   ]
  },
  {
   "cell_type": "code",
   "execution_count": 13,
   "id": "11258a18-0af8-4c89-a64d-97aff4490821",
   "metadata": {},
   "outputs": [],
   "source": [
    "for text, actual_label in data: \n",
    "    # TextBlob\n",
    "    blob = TextBlob(text) \n",
    "    tb_polarity = blob.sentiment.polarity \n",
    "     \n",
    "    # Determine label based on polarity score from TextBlob \n",
    "    if tb_polarity > 0: \n",
    "        tb_label = 'positive' \n",
    "    elif tb_polarity < 0: \n",
    "        tb_label = 'negative' \n",
    "    else: \n",
    "        tb_label = 'neutral' \n",
    " \n",
    "    # VADER \n",
    "    analyzer = SentimentIntensityAnalyzer() \n",
    "    vs = analyzer.polarity_scores(text) \n",
    "    vader_compound = vs['compound'] \n",
    " \n",
    "    # Determine label based on compound score from VADER \n",
    "    if vader_compound > 0.05: \n",
    "        vader_label = 'positive' \n",
    "    elif vader_compound < -0.05: \n",
    "        vader_label = 'negative' \n",
    "    else: \n",
    "        vader_label = 'neutral' \n",
    " \n",
    "    table_data.append([text, actual_label, tb_polarity, tb_label, vader_compound, vader_label])"
   ]
  },
  {
   "cell_type": "code",
   "execution_count": 14,
   "id": "cbd7902f-d5cf-44b1-8ed8-bd3521e0b0be",
   "metadata": {},
   "outputs": [
    {
     "name": "stdout",
     "output_type": "stream",
     "text": [
      "Text                                                              Actual Label      TextBlob Polarity  TextBlob Sentiment      VADER Compound  VADER Sentiment\n",
      "I love this product, it's amazing!                                positive                  0.625      positive                        0.8516  positive\n",
      "This product is terrible, I hate it.                              negative                 -0.9        negative                       -0.7783  negative\n",
      "It's okay, not bad but not great either.                          neutral                   0.15       positive                       -0.4707  negative\n",
      "Best product ever, highly recommended!                            positive                  0.6        positive                        0.7639  positive\n",
      "I'm really disappointed with the quality.                         negative                 -0.75       negative                       -0.5256  negative\n",
      "So-so product, nothing special about it.                          neutral                   0.357143   positive                       -0.3089  negative\n",
      "The customer service was excellent!                               positive                  1          positive                        0.6114  positive\n",
      "I wasted my money on this useless product.                        negative                 -0.35       negative                       -0.7543  negative\n",
      "It's not the worst, but certainly not the best.                   neutral                  -0.0357143  negative                       -0.0785  negative\n",
      "I can't live without this product, it's a lifesaver!              positive                  0.170455   positive                        0.6239  positive\n",
      "The product arrived damaged and unusable.                         negative                  0          neutral                        -0.4404  negative\n",
      "It's average, neither good nor bad.                               neutral                  -0.05       negative                       -0.5824  negative\n",
      "Highly disappointed with the purchase.                            negative                 -0.75       negative                       -0.5256  negative\n",
      "The product exceeded my expectations.                             positive                  0          neutral                         0       neutral\n",
      "It's just okay, nothing extraordinary.                            neutral                   0.416667   positive                        0.2263  positive\n",
      "This product is excellent, it exceeded all my expectations!       positive                  1          positive                        0.6114  positive\n",
      "I regret purchasing this product, it's a waste of money.          negative                 -0.2        negative                       -0.6808  negative\n",
      "It's neither good nor bad, just average.                          neutral                  -0.05       negative                       -0.5824  negative\n",
      "Outstanding customer service, highly recommended!                 positive                  0.35       positive                        0.7495  positive\n",
      "I'm very disappointed with the quality of this item.              negative                 -0.975      negative                       -0.5256  negative\n",
      "It's not the best product, but it gets the job done.              neutral                   1          positive                       -0.2924  negative\n",
      "This product is a game-changer, I can't imagine life without it!  positive                  0          neutral                         0       neutral\n",
      "I received a defective product, very dissatisfied.                negative                  0.2        positive                       -0.6997  negative\n",
      "It's neither great nor terrible, just okay.                       neutral                   0.1        positive                       -0.7278  negative\n",
      "Fantastic product, I would buy it again in a heartbeat!           positive                  0.5        positive                        0.5983  positive\n",
      "Avoid this product at all costs, complete waste of money.         negative                 -0.05       negative                       -0.6124  negative\n",
      "It's decent, but nothing extraordinary.                           neutral                   0.25       positive                        0       neutral\n",
      "Impressive quality, exceeded my expectations!                     positive                  1          positive                        0.5562  positive\n",
      "I'm very unhappy with this purchase, total disappointment.        negative                 -0.46       negative                       -0.7708  negative\n",
      "It's neither amazing nor terrible, somewhere in between.          neutral                  -0.2        negative                       -0.6395  negative\n"
     ]
    }
   ],
   "source": [
    "print(tabulate(table_data, headers=\"firstrow\", tablefmt=\"plain\"))"
   ]
  },
  {
   "cell_type": "code",
   "execution_count": 18,
   "id": "6439d4bf-e090-4b29-ba23-4105cb842daf",
   "metadata": {},
   "outputs": [
    {
     "name": "stdout",
     "output_type": "stream",
     "text": [
      "\n",
      "Classification Report for TextBlob:\n",
      "              precision    recall  f1-score   support\n",
      "\n",
      "    negative       0.67      0.80      0.73        10\n",
      "     neutral       0.00      0.00      0.00        10\n",
      "    positive       0.53      0.80      0.64        10\n",
      "\n",
      "    accuracy                           0.53        30\n",
      "   macro avg       0.40      0.53      0.46        30\n",
      "weighted avg       0.40      0.53      0.46        30\n",
      "\n",
      "\n",
      "Classification Report for VADER:\n",
      "              precision    recall  f1-score   support\n",
      "\n",
      "    negative       0.56      1.00      0.71        10\n",
      "     neutral       0.33      0.10      0.15        10\n",
      "    positive       0.89      0.80      0.84        10\n",
      "\n",
      "    accuracy                           0.63        30\n",
      "   macro avg       0.59      0.63      0.57        30\n",
      "weighted avg       0.59      0.63      0.57        30\n",
      "\n"
     ]
    }
   ],
   "source": [
    "# Calculate classification report for TextBlob \n",
    "tb_classification_report = classification_report([label for _, label, _, tb_label, _, _ in table_data[1:]], [tb_label for _, _, _, tb_label, _, _ in table_data[1:]], target_names=['negative', 'neutral', 'positive']) \n",
    " \n",
    "# Calculate classification report for VADER \n",
    "vader_classification_report = classification_report([label for _, label, _, _, _, vader_label in table_data[1:]], [vader_label for _, _, _, _, _, vader_label in table_data[1:]], target_names=['negative', 'neutral', 'positive']) \n",
    " \n",
    "# Print classification report for TextBlob \n",
    "print(\"\\nClassification Report for TextBlob:\") \n",
    "print(tb_classification_report) \n",
    " \n",
    "# Print classification report for VADER \n",
    "print(\"\\nClassification Report for VADER:\") \n",
    "print(vader_classification_report) "
   ]
  },
  {
   "cell_type": "code",
   "execution_count": null,
   "id": "7dbf12ff-4c3c-4eec-bbe4-8d051d5c24f0",
   "metadata": {},
   "outputs": [],
   "source": []
  }
 ],
 "metadata": {
  "kernelspec": {
   "display_name": "Python 3 (ipykernel)",
   "language": "python",
   "name": "python3"
  },
  "language_info": {
   "codemirror_mode": {
    "name": "ipython",
    "version": 3
   },
   "file_extension": ".py",
   "mimetype": "text/x-python",
   "name": "python",
   "nbconvert_exporter": "python",
   "pygments_lexer": "ipython3",
   "version": "3.12.4"
  }
 },
 "nbformat": 4,
 "nbformat_minor": 5
}
