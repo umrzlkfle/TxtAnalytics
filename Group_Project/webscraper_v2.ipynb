{
 "cells": [
  {
   "cell_type": "code",
   "execution_count": 9,
   "id": "45cc5b55-922c-468e-bf25-aff69123c10e",
   "metadata": {},
   "outputs": [
    {
     "ename": "SyntaxError",
     "evalue": "invalid syntax (297272015.py, line 2)",
     "output_type": "error",
     "traceback": [
      "\u001b[1;36m  Cell \u001b[1;32mIn[9], line 2\u001b[1;36m\u001b[0m\n\u001b[1;33m    pip install selenium\u001b[0m\n\u001b[1;37m        ^\u001b[0m\n\u001b[1;31mSyntaxError\u001b[0m\u001b[1;31m:\u001b[0m invalid syntax\n"
     ]
    }
   ],
   "source": [
    "#Installing with pip\n",
    "pip install selenium"
   ]
  },
  {
   "cell_type": "code",
   "execution_count": 10,
   "id": "5daebf51-f3af-4d70-9830-ecfbee5df5ad",
   "metadata": {},
   "outputs": [],
   "source": [
    "from bs4 import BeautifulSoup"
   ]
  },
  {
   "cell_type": "code",
   "execution_count": 15,
   "id": "ac11bafe-3363-49ef-a768-d3975629708c",
   "metadata": {},
   "outputs": [],
   "source": [
    "from selenium import webdriver\n",
    "\n",
    "driver = webdriver.Chrome()\n",
    "#London Victoria & Albert Museum URL\n",
    "url = 'https://www.google.com/maps/search/bicycle+store/@51.5026862,-0.1430242,13z/data=!3m1!4b1'\n",
    "driver.get(url)"
   ]
  },
  {
   "cell_type": "code",
   "execution_count": 16,
   "id": "e44c3b28-3d5c-4f00-9b61-8008aea61f44",
   "metadata": {},
   "outputs": [
    {
     "ename": "NameError",
     "evalue": "name 'By' is not defined",
     "output_type": "error",
     "traceback": [
      "\u001b[1;31m---------------------------------------------------------------------------\u001b[0m",
      "\u001b[1;31mNameError\u001b[0m                                 Traceback (most recent call last)",
      "Cell \u001b[1;32mIn[16], line 3\u001b[0m\n\u001b[0;32m      2\u001b[0m \u001b[38;5;28;01mtry\u001b[39;00m:\n\u001b[1;32m----> 3\u001b[0m     driver\u001b[38;5;241m.\u001b[39mfind_element(By\u001b[38;5;241m.\u001b[39mCLASS_NAME, \u001b[38;5;124m\"\u001b[39m\u001b[38;5;124mwidget-pane-link\u001b[39m\u001b[38;5;124m\"\u001b[39m)\u001b[38;5;241m.\u001b[39mclick()\n\u001b[0;32m      4\u001b[0m \u001b[38;5;28;01mexcept\u001b[39;00m \u001b[38;5;167;01mException\u001b[39;00m:\n",
      "\u001b[1;31mNameError\u001b[0m: name 'By' is not defined",
      "\nDuring handling of the above exception, another exception occurred:\n",
      "\u001b[1;31mNameError\u001b[0m                                 Traceback (most recent call last)",
      "Cell \u001b[1;32mIn[16], line 12\u001b[0m\n\u001b[0;32m     10\u001b[0m     li[ad_count]\u001b[38;5;241m.\u001b[39mclick()\n\u001b[0;32m     11\u001b[0m \u001b[38;5;28;01melse\u001b[39;00m:\n\u001b[1;32m---> 12\u001b[0m     driver\u001b[38;5;241m.\u001b[39mfind_element(By\u001b[38;5;241m.\u001b[39mCLASS_NAME, \u001b[38;5;124m\"\u001b[39m\u001b[38;5;124ma4gq8e-aVTXAb-haAclf-jRmmHf-hSRGPd\u001b[39m\u001b[38;5;124m\"\u001b[39m)\u001b[38;5;241m.\u001b[39mclick()\n\u001b[0;32m     13\u001b[0m     time\u001b[38;5;241m.\u001b[39msleep(\u001b[38;5;241m5\u001b[39m)\n\u001b[0;32m     14\u001b[0m driver\u001b[38;5;241m.\u001b[39mfind_element(By\u001b[38;5;241m.\u001b[39mCLASS_NAME, \u001b[38;5;124m\"\u001b[39m\u001b[38;5;124mwidget-pane-link\u001b[39m\u001b[38;5;124m\"\u001b[39m)\u001b[38;5;241m.\u001b[39mclick()\n",
      "\u001b[1;31mNameError\u001b[0m: name 'By' is not defined"
     ]
    }
   ],
   "source": [
    "url = 'https://www.google.com/maps/search/bicycle+store/@51.5026862,-0.1430242,13z/data=!3m1!4b1'\n",
    "try:\n",
    "    driver.find_element(By.CLASS_NAME, \"widget-pane-link\").click()\n",
    "except Exception:\n",
    "    response = BeautifulSoup(driver.page_source, 'html.parser')\n",
    "    # Check if there are any paid ads and avoid them\n",
    "    if response.find_all('span', {'class': 'ARktye-badge'}):\n",
    "        ad_count = len(response.find_all('span', {'class': 'ARktye-badge'}))\n",
    "        li = driver.find_elements(By.CLASS_NAME, \"a4gq8e-aVTXAb-haAclf-jRmmHf-hSRGPd\")\n",
    "        li[ad_count].click()\n",
    "    else:\n",
    "        driver.find_element(By.CLASS_NAME, \"a4gq8e-aVTXAb-haAclf-jRmmHf-hSRGPd\").click()\n",
    "        time.sleep(5)\n",
    "    driver.find_element(By.CLASS_NAME, \"widget-pane-link\").click()"
   ]
  },
  {
   "cell_type": "code",
   "execution_count": null,
   "id": "69380fd9-7ece-4be1-8d60-449fae2e8f0c",
   "metadata": {},
   "outputs": [],
   "source": [
    "#Find the total number of reviews\n",
    "total_number_of_reviews = driver.find_element_by_xpath('//*[@id=\"pane\"]/div/div[1]/div/div/div[2]/div[2]/div/div[2]/div[2]').text.split(\" \")[0]\n",
    "total_number_of_reviews = int(total_number_of_reviews.replace(',','')) if ',' in total_number_of_reviews else int(total_number_of_reviews)\n",
    "#Find scroll layout\n",
    "scrollable_div = driver.find_element_by_xpath('//*[@id=\"pane\"]/div/div[1]/div/div/div[2]')\n",
    "#Scroll as many times as necessary to load all reviews\n",
    "for i in range(0,(round(total_number_of_reviews/10 - 1))):\n",
    "        driver.execute_script('arguments[0].scrollTop = arguments[0].scrollHeight', \n",
    "                scrollable_div)\n",
    "        time.sleep(1)"
   ]
  },
  {
   "cell_type": "code",
   "execution_count": null,
   "id": "5febc15e-bf99-4b22-b274-242654c192ab",
   "metadata": {},
   "outputs": [],
   "source": [
    "response = BeautifulSoup(driver.page_source, 'html.parser')\n",
    "reviews = response.find_all('div', class_='ODSEW-ShBeI NIyLF-haAclf gm2-body-2')"
   ]
  },
  {
   "cell_type": "code",
   "execution_count": null,
   "id": "8ea29cca-427f-42ae-a425-fa7bf4dafc0f",
   "metadata": {},
   "outputs": [],
   "source": [
    "def get_review_summary(result_set):\n",
    "    rev_dict = {'Review Rate': [],\n",
    "        'Review Time': [],\n",
    "        'Review Text' : []}\n",
    "    for result in result_set:\n",
    "        review_rate = result.find('span', class_='ODSEW-ShBeI-H1e3jb')[\"aria-label\"]\n",
    "        review_time = result.find('span',class_='ODSEW-ShBeI-RgZmSc-date').text\n",
    "        review_text = result.find('span',class_='ODSEW-ShBeI-text').text\n",
    "        rev_dict['Review Rate'].append(review_rate)\n",
    "        rev_dict['Review Time'].append(review_time)\n",
    "        rev_dict['Review Text'].append(review_text)\n",
    "    import pandas as pd    \n",
    "    return(pd.DataFrame(rev_dict))"
   ]
  }
 ],
 "metadata": {
  "kernelspec": {
   "display_name": "Python 3 (ipykernel)",
   "language": "python",
   "name": "python3"
  },
  "language_info": {
   "codemirror_mode": {
    "name": "ipython",
    "version": 3
   },
   "file_extension": ".py",
   "mimetype": "text/x-python",
   "name": "python",
   "nbconvert_exporter": "python",
   "pygments_lexer": "ipython3",
   "version": "3.12.4"
  }
 },
 "nbformat": 4,
 "nbformat_minor": 5
}
