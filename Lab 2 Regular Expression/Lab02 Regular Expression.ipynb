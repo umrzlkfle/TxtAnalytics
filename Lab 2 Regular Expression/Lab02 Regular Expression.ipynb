{
 "cells": [
  {
   "cell_type": "markdown",
   "id": "80af92c3-3cea-436a-9a82-04f0b473f747",
   "metadata": {},
   "source": [
    "### Lab 02 Regular Expression"
   ]
  },
  {
   "cell_type": "markdown",
   "id": "606317cf-5dd4-4164-830d-7470242656de",
   "metadata": {},
   "source": [
    "### a. re.match"
   ]
  },
  {
   "cell_type": "code",
   "execution_count": 2,
   "id": "6a3d16c1-8630-487d-9943-3094e75e96c5",
   "metadata": {},
   "outputs": [],
   "source": [
    "#importing regular expression library\n",
    "import re"
   ]
  },
  {
   "cell_type": "code",
   "execution_count": 3,
   "id": "b679d826-09dc-48f8-ae72-286a0db14f56",
   "metadata": {},
   "outputs": [
    {
     "name": "stdout",
     "output_type": "stream",
     "text": [
      "<re.Match object; span=(0, 1), match='I'>\n"
     ]
    }
   ],
   "source": [
    "#using re.match\n",
    "#to find the first occurence of the letter 'I' in the string\n",
    "\n",
    "sentence1 = re.match (r'I', 'I am learning text analytics')\n",
    "print (sentence1)"
   ]
  },
  {
   "cell_type": "code",
   "execution_count": null,
   "id": "413999f7-2044-4d44-9868-11d0aa95d031",
   "metadata": {},
   "outputs": [],
   "source": []
  }
 ],
 "metadata": {
  "kernelspec": {
   "display_name": "Python 3 (ipykernel)",
   "language": "python",
   "name": "python3"
  },
  "language_info": {
   "codemirror_mode": {
    "name": "ipython",
    "version": 3
   },
   "file_extension": ".py",
   "mimetype": "text/x-python",
   "name": "python",
   "nbconvert_exporter": "python",
   "pygments_lexer": "ipython3",
   "version": "3.12.4"
  }
 },
 "nbformat": 4,
 "nbformat_minor": 5
}
