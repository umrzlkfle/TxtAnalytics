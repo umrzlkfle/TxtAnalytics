{
 "cells": [
  {
   "cell_type": "code",
   "execution_count": null,
   "id": "75d5d8cb-8b81-4cc5-97e8-bd42cfeb950b",
   "metadata": {},
   "outputs": [],
   "source": [
    "# Read the content of the text file \n",
    "with open('sample.txt', 'r', encoding='utf-8') as file: \n",
    "text_data = file.read() \n",
    "print(\"Raw Text:\\n\", text_data)\n",
    "\n",
    "# Store in another file\n",
    "with open('stored_text.txt', 'w', encoding='utf-8') as file: \n",
    "file.write(text_data) "
   ]
  },
  {
   "cell_type": "code",
   "execution_count": null,
   "id": "a3e19845-cf82-4a75-90d7-7602aeb0342b",
   "metadata": {},
   "outputs": [],
   "source": []
  }
 ],
 "metadata": {
  "kernelspec": {
   "display_name": "Python 3 (ipykernel)",
   "language": "python",
   "name": "python3"
  },
  "language_info": {
   "codemirror_mode": {
    "name": "ipython",
    "version": 3
   },
   "file_extension": ".py",
   "mimetype": "text/x-python",
   "name": "python",
   "nbconvert_exporter": "python",
   "pygments_lexer": "ipython3",
   "version": "3.12.4"
  }
 },
 "nbformat": 4,
 "nbformat_minor": 5
}
