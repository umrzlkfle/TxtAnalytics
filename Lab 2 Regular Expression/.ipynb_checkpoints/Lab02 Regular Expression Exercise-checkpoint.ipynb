{
 "cells": [
  {
   "cell_type": "markdown",
   "id": "55e2f121-bd79-4408-bcef-780c6e244a5c",
   "metadata": {},
   "source": [
    "### Question 1"
   ]
  },
  {
   "cell_type": "code",
   "execution_count": 25,
   "id": "d0df7360-7a3e-48ed-b921-1bdf036e070e",
   "metadata": {},
   "outputs": [
    {
     "name": "stdout",
     "output_type": "stream",
     "text": [
      "Digits found: ['2', '4', '5', '6', '7', '8', '9', '3', '4', '1', '2', '3', '0']\n"
     ]
    }
   ],
   "source": [
    "import re\n",
    "\n",
    "text = \"Order umber: 24567, Tracking ID: 8934A12, Quantity: 30\"\n",
    "# Write your regular expression here.\n",
    "#\\d is a digit (a character in the range [0-9]), and + means one or more times. Thus, \\d+ means match one or more digits.\n",
    "pattern = (r'\\d')\n",
    "\n",
    "matches = re.findall(pattern, text)\n",
    "print(\"Digits found:\", matches)\n",
    "\n",
    "# reference\n",
    "# https://stackoverflow.com/questions/4289331/how-to-extract-numbers-from-a-string-in-python"
   ]
  },
  {
   "cell_type": "markdown",
   "id": "d0c03a26-6837-48fb-96ae-a0a5e57454f2",
   "metadata": {},
   "source": [
    "### Question 2"
   ]
  },
  {
   "cell_type": "code",
   "execution_count": 26,
   "id": "8face3f7-e79d-423a-be47-870927f3fc6b",
   "metadata": {},
   "outputs": [
    {
     "name": "stdout",
     "output_type": "stream",
     "text": [
      "Non-alphanumberic characters: ['!', ' ', \"'\", ' ', ' ', ' ', '?', ' ', ' ', ' ', '@', ' ', '.']\n"
     ]
    }
   ],
   "source": [
    "text = \"Welcome! How's your day going? Call me @ 3pm.\"\n",
    "pattern = (r'[^a-zA-Z\\d:]') # Using negate to find the opposite\n",
    "\n",
    "matches = re.findall(pattern, text)\n",
    "print(\"Non-alphanumberic characters:\", matches)\n",
    "\n",
    "# reference\n",
    "# https://stackoverflow.com/questions/6053541/regex-every-non-alphanumeric-character-except-white-space-or-colon"
   ]
  },
  {
   "cell_type": "code",
   "execution_count": 27,
   "id": "0aab6af8-0e04-42ae-90b2-2837e20373dc",
   "metadata": {},
   "outputs": [
    {
     "name": "stdout",
     "output_type": "stream",
     "text": [
      "Non-alphanumberic characters: ['!', ' ', \"'\", ' ', ' ', ' ', '?', ' ', ' ', ' ', '@', ' ', '.']\n"
     ]
    }
   ],
   "source": [
    "text = \"Welcome! How's your day going? Call me @ 3pm.\"\n",
    "pattern = (r'[^\\w]') # negate word expression to find the oppoosite\n",
    "\n",
    "matches = re.findall(pattern, text)\n",
    "print(\"Non-alphanumberic characters:\", matches)\n",
    "\n",
    "# reference\n",
    "# https://vi.stackexchange.com/questions/27871/regex-for-any-character-that-is-not-alphanumeric-whitespace-or-a-doublequote"
   ]
  },
  {
   "cell_type": "markdown",
   "id": "11739b15-01ad-4695-a848-7c0a4e1bae24",
   "metadata": {},
   "source": [
    "### Question 3"
   ]
  },
  {
   "cell_type": "code",
   "execution_count": 28,
   "id": "a763f944-eb1d-4891-a176-afd56537791d",
   "metadata": {},
   "outputs": [
    {
     "name": "stdout",
     "output_type": "stream",
     "text": [
      "Split text: ['Data Science', ' AI', ' and Machine Learning', ' These fields are growing fast', '']\n"
     ]
    }
   ],
   "source": [
    "text = \"Data Science, AI, and Machine Learning. These fields are growing fast.\"\n",
    "pattern = (r'[,.]')\n",
    "\n",
    "split_text =  re.split(pattern, text)\n",
    "print(\"Split text:\", split_text)"
   ]
  },
  {
   "cell_type": "markdown",
   "id": "3816e771-f7a3-46fe-99d4-bf0492615e86",
   "metadata": {},
   "source": [
    "### Question 4"
   ]
  },
  {
   "cell_type": "code",
   "execution_count": 29,
   "id": "40c692cf-84f0-4d61-9e5c-42a36929d153",
   "metadata": {},
   "outputs": [
    {
     "name": "stdout",
     "output_type": "stream",
     "text": [
      "Anonymized text: Contact us at [HIDDEN] or [HIDDEN]\n"
     ]
    }
   ],
   "source": [
    "text = \"Contact us at support@example.com or info@company.org\"\n",
    "pattern = (r'\\w+@\\w+.\\w+')\n",
    "\n",
    "new_text = re.sub(pattern, \"[HIDDEN]\", text)\n",
    "print(\"Anonymized text:\", new_text)"
   ]
  },
  {
   "cell_type": "markdown",
   "id": "5a6da895-73d9-4424-bc91-3d6a8f94ed4e",
   "metadata": {},
   "source": [
    "### Question 5"
   ]
  },
  {
   "cell_type": "code",
   "execution_count": 30,
   "id": "6ca95dc6-972c-4556-8810-39f705e7d188",
   "metadata": {},
   "outputs": [
    {
     "name": "stdout",
     "output_type": "stream",
     "text": [
      "Domain types: ['com', 'edu', 'org']\n"
     ]
    }
   ],
   "source": [
    "text = \"Emails:user@gmail.com, admin@university.edu, info@company.org\"\n",
    "pattern = (r'@\\w+.(\\w+)')\n",
    "\n",
    "matches = re.findall(pattern,text)\n",
    "print(\"Domain types:\", matches)"
   ]
  }
 ],
 "metadata": {
  "kernelspec": {
   "display_name": "Python 3 (ipykernel)",
   "language": "python",
   "name": "python3"
  },
  "language_info": {
   "codemirror_mode": {
    "name": "ipython",
    "version": 3
   },
   "file_extension": ".py",
   "mimetype": "text/x-python",
   "name": "python",
   "nbconvert_exporter": "python",
   "pygments_lexer": "ipython3",
   "version": "3.12.4"
  }
 },
 "nbformat": 4,
 "nbformat_minor": 5
}
