{
 "cells": [
  {
   "cell_type": "markdown",
   "id": "0d98ddd8-d908-43d8-b94d-cbb6e94c0a0b",
   "metadata": {},
   "source": [
    "# Lab 01 Assignments <br>\n",
    "\n",
    "#### Name & Student ID\n",
    "#### 1. Muhammad 'Umar bin Zolkifle (SW01082397)\n",
    "#### 2. Muhammad Iman Arif bin Mauzi (SW01083215)"
   ]
  },
  {
   "cell_type": "markdown",
   "id": "6988b524-1637-46f5-84c7-aa0d2597444e",
   "metadata": {},
   "source": [
    "##### Using the Reddit as the platform. Below is the link to the website that will be scraped.\n",
    "##### https://www.reddit.com/r/samsung/comments/1ike0dp/my_thoughts_on_galaxy_s25_ultra_after_using_it/ <br>\n",
    "\n",
    "#### I'll be using selenium as the webdriver to view and collect the comments from the subreddit.\n",
    "#### At first, I proceed by installing Selenium and import pandas to collect and view the data."
   ]
  },
  {
   "cell_type": "code",
   "execution_count": 9,
   "id": "7af721db-49e2-49a5-9368-758c6adde92d",
   "metadata": {},
   "outputs": [
    {
     "name": "stdout",
     "output_type": "stream",
     "text": [
      "Requirement already satisfied: selenium in c:\\users\\asus\\anaconda3\\lib\\site-packages (4.29.0)\n",
      "Requirement already satisfied: pandas in c:\\users\\asus\\anaconda3\\lib\\site-packages (2.2.2)\n",
      "Requirement already satisfied: urllib3<3,>=1.26 in c:\\users\\asus\\anaconda3\\lib\\site-packages (from urllib3[socks]<3,>=1.26->selenium) (2.2.2)\n",
      "Requirement already satisfied: trio~=0.17 in c:\\users\\asus\\anaconda3\\lib\\site-packages (from selenium) (0.29.0)\n",
      "Requirement already satisfied: trio-websocket~=0.9 in c:\\users\\asus\\anaconda3\\lib\\site-packages (from selenium) (0.12.2)\n",
      "Requirement already satisfied: certifi>=2021.10.8 in c:\\users\\asus\\anaconda3\\lib\\site-packages (from selenium) (2024.8.30)\n",
      "Requirement already satisfied: typing_extensions~=4.9 in c:\\users\\asus\\anaconda3\\lib\\site-packages (from selenium) (4.11.0)\n",
      "Requirement already satisfied: websocket-client~=1.8 in c:\\users\\asus\\anaconda3\\lib\\site-packages (from selenium) (1.8.0)\n",
      "Requirement already satisfied: numpy>=1.26.0 in c:\\users\\asus\\anaconda3\\lib\\site-packages (from pandas) (1.26.4)\n",
      "Requirement already satisfied: python-dateutil>=2.8.2 in c:\\users\\asus\\anaconda3\\lib\\site-packages (from pandas) (2.9.0.post0)\n",
      "Requirement already satisfied: pytz>=2020.1 in c:\\users\\asus\\anaconda3\\lib\\site-packages (from pandas) (2024.1)\n",
      "Requirement already satisfied: tzdata>=2022.7 in c:\\users\\asus\\anaconda3\\lib\\site-packages (from pandas) (2023.3)\n",
      "Requirement already satisfied: six>=1.5 in c:\\users\\asus\\anaconda3\\lib\\site-packages (from python-dateutil>=2.8.2->pandas) (1.16.0)\n",
      "Requirement already satisfied: attrs>=23.2.0 in c:\\users\\asus\\anaconda3\\lib\\site-packages (from trio~=0.17->selenium) (25.3.0)\n",
      "Requirement already satisfied: sortedcontainers in c:\\users\\asus\\anaconda3\\lib\\site-packages (from trio~=0.17->selenium) (2.4.0)\n",
      "Requirement already satisfied: idna in c:\\users\\asus\\anaconda3\\lib\\site-packages (from trio~=0.17->selenium) (3.7)\n",
      "Requirement already satisfied: outcome in c:\\users\\asus\\anaconda3\\lib\\site-packages (from trio~=0.17->selenium) (1.3.0.post0)\n",
      "Requirement already satisfied: sniffio>=1.3.0 in c:\\users\\asus\\anaconda3\\lib\\site-packages (from trio~=0.17->selenium) (1.3.0)\n",
      "Requirement already satisfied: cffi>=1.14 in c:\\users\\asus\\anaconda3\\lib\\site-packages (from trio~=0.17->selenium) (1.16.0)\n",
      "Requirement already satisfied: wsproto>=0.14 in c:\\users\\asus\\anaconda3\\lib\\site-packages (from trio-websocket~=0.9->selenium) (1.2.0)\n",
      "Requirement already satisfied: pysocks!=1.5.7,<2.0,>=1.5.6 in c:\\users\\asus\\anaconda3\\lib\\site-packages (from urllib3[socks]<3,>=1.26->selenium) (1.7.1)\n",
      "Requirement already satisfied: pycparser in c:\\users\\asus\\anaconda3\\lib\\site-packages (from cffi>=1.14->trio~=0.17->selenium) (2.21)\n",
      "Requirement already satisfied: h11<1,>=0.9.0 in c:\\users\\asus\\anaconda3\\lib\\site-packages (from wsproto>=0.14->trio-websocket~=0.9->selenium) (0.14.0)\n",
      "Note: you may need to restart the kernel to use updated packages.\n"
     ]
    }
   ],
   "source": [
    "pip install selenium pandas"
   ]
  },
  {
   "cell_type": "markdown",
   "id": "88d9e35a-f06e-4ce2-81af-60d89ac219fe",
   "metadata": {},
   "source": [
    "##### There are a few functions under in the python file.\n",
    "#### 1. click_load_more()\n",
    "##### This function acts to click \"View more comments\" buttone when the browser scroll down. <br>\n",
    "\n",
    "#### 2. click_continue_thread()\n",
    "##### This function acts to click on \"Continue this thread\" when it appears to load more comments <br>\n",
    "\n",
    "##### As for the rest of the codes, I utilised the loop to load and scroll down the webpages to view more comments and review of the product.\n",
    "##### To specifically collect the usernames, time, and review. I inspect the elements of the webpages, identify the specific tag of the elements and put in the python to locate the elements.\n",
    "##### As of now, the username is defined by its <a tag with css, the time is by TIME and the review is through <p tag. <br>\n",
    "\n",
    "##### Then, when the webdriver reach the end of the pages. It then closes and export the collected data and commments into csv files to be further processsed. <br>\n",
    "\n",
    "### Note: I did not do any preprocessing on the data as the comments are complete"
   ]
  },
  {
   "cell_type": "code",
   "execution_count": 17,
   "id": "91224a21-a174-478b-9e57-c3bcf41c90bb",
   "metadata": {},
   "outputs": [
    {
     "name": "stdout",
     "output_type": "stream",
     "text": [
      "Scraping complete! Comments saved in 'reddit_comments.csv'.\n"
     ]
    }
   ],
   "source": [
    "from selenium import webdriver\n",
    "from selenium.webdriver.common.by import By\n",
    "from selenium.webdriver.common.action_chains import ActionChains\n",
    "from selenium.webdriver.edge.service import Service\n",
    "import pandas as pd\n",
    "import time\n",
    "\n",
    "# Set up Edge WebDriver\n",
    "edge_driver_path = \"C:\\\\DataC\\\\edgedriver_win64\\\\msedgedriver.exe\"  # Update this path\n",
    "service = Service(edge_driver_path)\n",
    "driver = webdriver.Edge(service=service)\n",
    "\n",
    "# Open the Reddit post\n",
    "url = \"https://www.reddit.com/r/samsung/comments/1ike0dp/my_thoughts_on_galaxy_s25_ultra_after_using_it/\"\n",
    "driver.get(url)\n",
    "\n",
    "# Wait for the page to load\n",
    "time.sleep(5)\n",
    "\n",
    "# Function to click \"Load more comments\" buttons\n",
    "def click_load_more():\n",
    "    while True:\n",
    "        try:\n",
    "            load_more_buttons = driver.find_elements(By.XPATH, \"//button[contains(text(),'View more comments')]\")\n",
    "            if not load_more_buttons:\n",
    "                break  # No more buttons to click\n",
    "            \n",
    "            for button in load_more_buttons:\n",
    "                ActionChains(driver).move_to_element(button).click(button).perform()\n",
    "                time.sleep(2)  # Wait for new comments to load\n",
    "        except:\n",
    "            break  # If button disappears or fails to click\n",
    "\n",
    "# Function to click \"Continue this thread\" links\n",
    "def click_continue_thread():\n",
    "    while True:\n",
    "        try:\n",
    "            continue_buttons = driver.find_elements(By.XPATH, \"//a[contains(text(),'Continue this thread')]\")\n",
    "            if not continue_buttons:\n",
    "                break  # No more threads to load\n",
    "            \n",
    "            for button in continue_buttons:\n",
    "                driver.execute_script(\"arguments[0].scrollIntoView();\", button)\n",
    "                button.click()\n",
    "                time.sleep(2)  # Wait for new comments to load\n",
    "        except:\n",
    "            break  # If button disappears or fails to click\n",
    "\n",
    "# Load more comments dynamically\n",
    "for _ in range(10):  # Adjust loop count for more comments\n",
    "    click_load_more()\n",
    "    click_continue_thread()\n",
    "    driver.execute_script(\"window.scrollTo(0, document.body.scrollHeight);\")\n",
    "    time.sleep(3)\n",
    "\n",
    "# Store extracted data\n",
    "reviews_data = []\n",
    "\n",
    "# Extract comments\n",
    "comments = driver.find_elements(By.CSS_SELECTOR, \"shreddit-comment\")\n",
    "\n",
    "for comment in comments:\n",
    "    try:\n",
    "        # Extract user name using the updated <a> tag\n",
    "        user_name = comment.find_element(By.CSS_SELECTOR, \"a.truncate.font-bold.text-neutral-content-strong\").text\n",
    "\n",
    "        # Extract review date\n",
    "        review_date = comment.find_element(By.CSS_SELECTOR, \"time\").get_attribute(\"datetime\")\n",
    "\n",
    "        # Extract user review\n",
    "        review_text = comment.find_element(By.CSS_SELECTOR, \"p\").text\n",
    "\n",
    "        # Append data to list\n",
    "        reviews_data.append({\"User Name\": user_name, \"Review Date\": review_date, \"User Review\": review_text})\n",
    "\n",
    "    except:\n",
    "        continue  # Skip if any element is missing\n",
    "\n",
    "# Close the browser\n",
    "driver.quit()\n",
    "\n",
    "# Save to CSV\n",
    "df = pd.DataFrame(reviews_data)\n",
    "df.to_csv(\"reddit_comments.csv\", index=False)\n",
    "\n",
    "print(\"Scraping complete! Comments saved in 'reddit_comments.csv'.\")"
   ]
  },
  {
   "cell_type": "code",
   "execution_count": null,
   "id": "ef303cd7-1767-4dd6-b271-54a5f21591bd",
   "metadata": {},
   "outputs": [],
   "source": []
  }
 ],
 "metadata": {
  "kernelspec": {
   "display_name": "Python 3 (ipykernel)",
   "language": "python",
   "name": "python3"
  },
  "language_info": {
   "codemirror_mode": {
    "name": "ipython",
    "version": 3
   },
   "file_extension": ".py",
   "mimetype": "text/x-python",
   "name": "python",
   "nbconvert_exporter": "python",
   "pygments_lexer": "ipython3",
   "version": "3.12.4"
  }
 },
 "nbformat": 4,
 "nbformat_minor": 5
}
