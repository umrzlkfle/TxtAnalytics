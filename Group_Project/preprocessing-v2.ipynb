{
 "cells": [
  {
   "cell_type": "markdown",
   "id": "8018dfb7-0458-420c-9278-e6e3a2a6a1aa",
   "metadata": {},
   "source": [
    "# Pre-processing steps of the Collected Data"
   ]
  },
  {
   "cell_type": "markdown",
   "id": "28803472-2489-42c7-bec7-f4282a707415",
   "metadata": {},
   "source": [
    "### 1. Load Datasets"
   ]
  },
  {
   "cell_type": "code",
   "execution_count": 30,
   "id": "a629eac1-06ab-45ec-88cc-3080cc671cb8",
   "metadata": {},
   "outputs": [
    {
     "name": "stdout",
     "output_type": "stream",
     "text": [
      "                                                                                                                   google-link  \\\n",
      "0          https://lh3.googleusercontent.com/a-/ALV-UjWIyPjByq2ksozdvz5_SdR8zYvdRhhMjwrQldI-8FFQdEuWIE3G=w36-h36-p-rp-mo-br100   \n",
      "1       https://lh3.googleusercontent.com/a-/ALV-UjUPeZrhls5ywqZt9CQ_7kpBOD54Kss5P5CusE-KCrwlX8Z2Lfw=w36-h36-p-rp-mo-ba6-br100   \n",
      "2    https://lh3.googleusercontent.com/a-/ALV-UjXh6FqgpYfmdCPetLMXu069LnqtRmGlTIJf9U05p9dg2622uZDviw=w36-h36-p-rp-mo-ba3-br100   \n",
      "3      https://lh3.googleusercontent.com/a-/ALV-UjW0r7gMvGVS3BCUSmbdy4mzlfSdJsEL1_9J9oU4Je5IABcT5umI=w36-h36-p-rp-mo-ba3-br100   \n",
      "4      https://lh3.googleusercontent.com/a-/ALV-UjVhbz11TIeUOx9qQwiPyOozuBIZWVKLRqJDdip5Z0ahnhjivqCa=w36-h36-p-rp-mo-ba2-br100   \n",
      "..                                                                                                                         ...   \n",
      "355         https://lh3.googleusercontent.com/a-/ALV-UjX9XxhvJp1Ci0qtZO8zFDqHyd0oVoIcs6qkjbMhdh2MZgYBzR4=w36-h36-p-rp-mo-br100   \n",
      "356    https://lh3.googleusercontent.com/a-/ALV-UjXkV_Z8s7c9F4RtpvWhLbx1g5_DKuiMWSz7nMkEVq74ls_fSREn=w36-h36-p-rp-mo-ba2-br100   \n",
      "357  https://lh3.googleusercontent.com/a-/ALV-UjVF0VFp_QHrYn3Fe6go_Uib95l4Z-lr8IlEZikzO8bHJWEsh8l9ww=w36-h36-p-rp-mo-ba3-br100   \n",
      "358      https://lh3.googleusercontent.com/a-/ALV-UjVKOMYKTKbpGHQuaMiNH-CTmIQtPvz-jDo_hDkH_IRV9_6mVU_ZPA=w36-h36-p-rp-mo-br100   \n",
      "359        https://lh3.googleusercontent.com/a-/ALV-UjWrU-1IUD9IsgNL-MKRtuhaPqOsdQe-DZo39wPacGMLCM9Q4U66=w36-h36-p-rp-mo-br100   \n",
      "\n",
      "                username                               Past Action  \\\n",
      "0    Gayathiri Sivakumar                      3 reviews · 5 photos   \n",
      "1             Azam Kamal  Local Guide · 205 reviews · 1,571 photos   \n",
      "2          Malihah Yusof      Local Guide · 30 reviews · 71 photos   \n",
      "3     Nurul Azida (Zida)      Local Guide · 16 reviews · 58 photos   \n",
      "4         Najihah Pazaer       Local Guide · 5 reviews · 19 photos   \n",
      "..                   ...                                       ...   \n",
      "355        nida fathinah                       8 reviews · 1 photo   \n",
      "356        Zafirah Ishak       Local Guide · 19 reviews · 7 photos   \n",
      "357          Syad Hamran      Local Guide · 12 reviews · 45 photos   \n",
      "358   Nurul humairah Moe                       3 reviews · 1 photo   \n",
      "359            alep jaww                                13 reviews   \n",
      "\n",
      "             Time  \\\n",
      "0    2 months ago   \n",
      "1    2 months ago   \n",
      "2    3 months ago   \n",
      "3    4 months ago   \n",
      "4    2 months ago   \n",
      "..            ...   \n",
      "355   2 years ago   \n",
      "356   2 years ago   \n",
      "357   2 years ago   \n",
      "358   2 years ago   \n",
      "359   3 years ago   \n",
      "\n",
      "                                                                                                                                                                                                                                                                            Review  \n",
      "0                               I recently visited Suka Desert and tried a variety of their offerings. The pancake was exceptionally fluffy and enjoyable, while the vanilla 3-phase ice cream was delightful overall, though the melted chocolate phase was overly sweet for my …  \n",
      "1                                                                                                                                                                       My review is simple because I love chocolate. Of course, it’s sweet—after all, that’s what chocolate is! …  \n",
      "2                               Not sure why people are so hype about this. They sure have various dessert but the cakes taste just like the ones you'd get at regular bakery. They are pricey as claimed to be using premium ingredients. But i probably would not come back to …  \n",
      "3                                                                  Love it! Cake in bowl definitely so delicious not so sweet just nice to eat. Croissant much better if the texture more crispy it would be great. The cafe surrounding look really nice and suitable to dine in.  \n",
      "4    The queue always long, tapi laju! So u dont have to worry standing for so long outside. Less people dine in as most want to tapau desserts. so u can get in quicker. Strawberry so fresh and juicy. Please get that. Bought brownies nutella as well for birthday. Lovin it❤️  \n",
      "..                                                                                                                                                                                                                                                                             ...  \n",
      "355                                   If you come here for dessert it's ok. Cafe food not recommended. I ordered plain aglio olio pasta (onion+mushroom) at RM10 and grilled chicken rice at RM17 and so on. Seriously not good. Salty pasta, chicken with black pepper sauce or …  \n",
      "356                                                                                                                                                                                                                        We order\\n3 small pavlovas\\n2 sushi-sized cheesecakes …  \n",
      "357                               Service is slow, I queued for three people for a crazy long time, then the staff asked the customer who had just queued to enter first. As seats 2 people. The three of us don't prioritize, just add 1 chair. After paying the cashier 1, the …  \n",
      "358                  The price is so high...the food is sweet...spaghettie is crazy salty...the donut pastry just tastes like a roadside shop, the chocolate dip is RM8.90...better buy the crispy creme...I don't believe it come... prepare a lot of money if you bring a boy...  \n",
      "359                             It tastes like a normal dessert. The order system is troublesome. The line is slow and I can't order. System when you order mineral water with ice, you only get ice. When asked, they said mineral water had to be taken at the counter. What's …  \n",
      "\n",
      "[360 rows x 5 columns]\n"
     ]
    }
   ],
   "source": [
    "#Load Datasets\n",
    "import pandas as pd\n",
    "file_path = \"extracted-reviews.csv\"\n",
    "df = pd.read_csv(file_path)\n",
    "\n",
    "# Display column content without truncation\n",
    "pd.set_option('display.max_colwidth', None) #Set to None for unlimited width\n",
    "print(df)"
   ]
  },
  {
   "cell_type": "code",
   "execution_count": 31,
   "id": "0ab51389-16ef-4816-b887-6f583c5fa93d",
   "metadata": {},
   "outputs": [
    {
     "name": "stdout",
     "output_type": "stream",
     "text": [
      "                username                               Past Action  \\\n",
      "0    Gayathiri Sivakumar                      3 reviews · 5 photos   \n",
      "1             Azam Kamal  Local Guide · 205 reviews · 1,571 photos   \n",
      "2          Malihah Yusof      Local Guide · 30 reviews · 71 photos   \n",
      "3     Nurul Azida (Zida)      Local Guide · 16 reviews · 58 photos   \n",
      "4         Najihah Pazaer       Local Guide · 5 reviews · 19 photos   \n",
      "..                   ...                                       ...   \n",
      "355        nida fathinah                       8 reviews · 1 photo   \n",
      "356        Zafirah Ishak       Local Guide · 19 reviews · 7 photos   \n",
      "357          Syad Hamran      Local Guide · 12 reviews · 45 photos   \n",
      "358   Nurul humairah Moe                       3 reviews · 1 photo   \n",
      "359            alep jaww                                13 reviews   \n",
      "\n",
      "             Time  \\\n",
      "0    2 months ago   \n",
      "1    2 months ago   \n",
      "2    3 months ago   \n",
      "3    4 months ago   \n",
      "4    2 months ago   \n",
      "..            ...   \n",
      "355   2 years ago   \n",
      "356   2 years ago   \n",
      "357   2 years ago   \n",
      "358   2 years ago   \n",
      "359   3 years ago   \n",
      "\n",
      "                                                                                                                                                                                                                                                                            Review  \n",
      "0                               I recently visited Suka Desert and tried a variety of their offerings. The pancake was exceptionally fluffy and enjoyable, while the vanilla 3-phase ice cream was delightful overall, though the melted chocolate phase was overly sweet for my …  \n",
      "1                                                                                                                                                                       My review is simple because I love chocolate. Of course, it’s sweet—after all, that’s what chocolate is! …  \n",
      "2                               Not sure why people are so hype about this. They sure have various dessert but the cakes taste just like the ones you'd get at regular bakery. They are pricey as claimed to be using premium ingredients. But i probably would not come back to …  \n",
      "3                                                                  Love it! Cake in bowl definitely so delicious not so sweet just nice to eat. Croissant much better if the texture more crispy it would be great. The cafe surrounding look really nice and suitable to dine in.  \n",
      "4    The queue always long, tapi laju! So u dont have to worry standing for so long outside. Less people dine in as most want to tapau desserts. so u can get in quicker. Strawberry so fresh and juicy. Please get that. Bought brownies nutella as well for birthday. Lovin it❤️  \n",
      "..                                                                                                                                                                                                                                                                             ...  \n",
      "355                                   If you come here for dessert it's ok. Cafe food not recommended. I ordered plain aglio olio pasta (onion+mushroom) at RM10 and grilled chicken rice at RM17 and so on. Seriously not good. Salty pasta, chicken with black pepper sauce or …  \n",
      "356                                                                                                                                                                                                                        We order\\n3 small pavlovas\\n2 sushi-sized cheesecakes …  \n",
      "357                               Service is slow, I queued for three people for a crazy long time, then the staff asked the customer who had just queued to enter first. As seats 2 people. The three of us don't prioritize, just add 1 chair. After paying the cashier 1, the …  \n",
      "358                  The price is so high...the food is sweet...spaghettie is crazy salty...the donut pastry just tastes like a roadside shop, the chocolate dip is RM8.90...better buy the crispy creme...I don't believe it come... prepare a lot of money if you bring a boy...  \n",
      "359                             It tastes like a normal dessert. The order system is troublesome. The line is slow and I can't order. System when you order mineral water with ice, you only get ice. When asked, they said mineral water had to be taken at the counter. What's …  \n",
      "\n",
      "[360 rows x 4 columns]\n"
     ]
    }
   ],
   "source": [
    "# Remove the first column by its index (0)\n",
    "df = df.drop(df.columns[0], axis=1)\n",
    "print(df)"
   ]
  },
  {
   "cell_type": "markdown",
   "id": "e2e85ff2-b9bc-41b2-8e48-8cf8fa1759b7",
   "metadata": {},
   "source": [
    "### 2. Importing relevant modules and functions."
   ]
  },
  {
   "cell_type": "code",
   "execution_count": 32,
   "id": "670f31ad-7acc-490b-b1c1-e719401b01bb",
   "metadata": {},
   "outputs": [
    {
     "name": "stderr",
     "output_type": "stream",
     "text": [
      "[nltk_data] Downloading package stopwords to\n",
      "[nltk_data]     C:\\Users\\Asus\\AppData\\Roaming\\nltk_data...\n",
      "[nltk_data]   Package stopwords is already up-to-date!\n",
      "[nltk_data] Downloading package wordnet to\n",
      "[nltk_data]     C:\\Users\\Asus\\AppData\\Roaming\\nltk_data...\n",
      "[nltk_data]   Package wordnet is already up-to-date!\n",
      "[nltk_data] Downloading package omw-1.4 to\n",
      "[nltk_data]     C:\\Users\\Asus\\AppData\\Roaming\\nltk_data...\n",
      "[nltk_data]   Package omw-1.4 is already up-to-date!\n",
      "[nltk_data] Downloading package averaged_perceptron_tagger_eng to\n",
      "[nltk_data]     C:\\Users\\Asus\\AppData\\Roaming\\nltk_data...\n",
      "[nltk_data]   Package averaged_perceptron_tagger_eng is already up-to-\n",
      "[nltk_data]       date!\n",
      "[nltk_data] Downloading package punkt_tab to\n",
      "[nltk_data]     C:\\Users\\Asus\\AppData\\Roaming\\nltk_data...\n",
      "[nltk_data]   Package punkt_tab is already up-to-date!\n"
     ]
    }
   ],
   "source": [
    "import pandas as pd \n",
    "import re \n",
    "import emoji \n",
    "import string \n",
    "import nltk \n",
    " \n",
    "from bs4 import BeautifulSoup \n",
    "from autocorrect import Speller \n",
    "from nltk.corpus import stopwords, wordnet \n",
    "from nltk.stem import WordNetLemmatizer \n",
    "from nltk.tokenize import word_tokenize \n",
    "from nltk import pos_tag \n",
    " \n",
    "# Download required NLTK resources \n",
    "nltk.download('stopwords') \n",
    "nltk.download('wordnet')                    # For lemmatization \n",
    "nltk.download('omw-1.4')                     # WordNet lexical database \n",
    "nltk.download('averaged_perceptron_tagger_eng')  # For POS tagging \n",
    "nltk.download('punkt_tab')                       # For tokenization \n",
    "\n",
    "# Initialize tools \n",
    "spell = Speller(lang='en') \n",
    "stop_words = set(stopwords.words('english')) \n",
    "lemmatizer = WordNetLemmatizer() "
   ]
  },
  {
   "cell_type": "code",
   "execution_count": 33,
   "id": "48683483-1e93-4a1e-b13c-71c64f38c119",
   "metadata": {},
   "outputs": [],
   "source": [
    "# Dictionary of slang words and their replacements \n",
    "slang_dict = { \n",
    "    \"tbh\": \"to be honest\", \n",
    "    \"omg\": \"oh my god\", \n",
    "    \"lol\": \"laugh out loud\", \n",
    "    \"idk\": \"I don't know\", \n",
    "    \"brb\": \"be right back\", \n",
    "    \"btw\": \"by the way\", \n",
    "    \"imo\": \"in my opinion\", \n",
    "    \"smh\": \"shaking my head\", \n",
    "    \"fyi\": \"for your information\", \n",
    "    \"np\": \"no problem\", \n",
    "    \"ikr\": \"I know right\", \n",
    "    \"asap\": \"as soon as possible\", \n",
    "    \"bff\": \"best friend forever\", \n",
    "    \"gg\": \"good game\", \n",
    "    \"hmu\": \"hit me up\", \n",
    "    \"rofl\": \"rolling on the floor laughing\",\n",
    "    \"w\": \"win\"\n",
    "} \n",
    " \n",
    "# Contractions dictionary \n",
    "contractions_dict = { \n",
    "    \"wasn't\": \"was not\", \n",
    "    \"isn't\": \"is not\", \n",
    "    \"aren't\": \"are not\", \n",
    "    \"weren't\": \"were not\", \n",
    "    \"doesn't\": \"does not\", \n",
    "    \"don't\": \"do not\", \n",
    "    \"didn't\": \"did not\", \n",
    "    \"can't\": \"cannot\", \n",
    "    \"couldn't\": \"could not\", \n",
    "    \"shouldn't\": \"should not\", \n",
    "    \"wouldn't\": \"would not\", \n",
    "    \"won't\": \"will not\", \n",
    "    \"haven't\": \"have not\", \n",
    "    \"hasn't\": \"has not\", \n",
    "    \"hadn't\": \"had not\", \n",
    "    \"i'm\": \"i am\", \n",
    "    \"you're\": \"you are\", \n",
    "    \"he's\": \"he is\", \n",
    "    \"she's\": \"she is\", \n",
    "    \"it's\": \"it is\", \n",
    "    \"we're\": \"we are\", \n",
    "    \"they're\": \"they are\", \n",
    "    \"i've\": \"i have\", \n",
    "    \"you've\": \"you have\", \n",
    "    \"we've\": \"we have\", \n",
    "    \"they've\": \"they have\", \n",
    "    \"i'd\": \"i would\", \n",
    "    \"you'd\": \"you would\", \n",
    "    \"he'd\": \"he would\", \n",
    "    \"she'd\": \"she would\", \n",
    "    \"we'd\": \"we would\", \n",
    "    \"they'd\": \"they would\", \n",
    "    \"i'll\": \"i will\", \n",
    "    \"you'll\": \"you will\", \n",
    "    \"he'll\": \"he will\", \n",
    "    \"she'll\": \"she will\", \n",
    "    \"we'll\": \"we will\", \n",
    "    \"they'll\": \"they will\", \n",
    "    \"let's\": \"let us\", \n",
    "    \"that's\": \"that is\", \n",
    "    \"who's\": \"who is\", \n",
    "    \"what's\": \"what is\", \n",
    "    \"where's\": \"where is\", \n",
    "    \"when's\": \"when is\", \n",
    "    \"why's\": \"why is\" \n",
    "}"
   ]
  },
  {
   "cell_type": "markdown",
   "id": "1fcb32ee-d197-4310-9c4b-f3013f821930",
   "metadata": {},
   "source": [
    "#### There are several functions involve in the preprocessing.\n",
    "#### 1. Lowercase function: Convert the string to lowercase\n",
    "#### 2. No_URLs: Remove URL in the string\n",
    "#### 3. No_HTML: Remove HTML links in the string\n",
    "#### 4. No_emojis: Remove emoji in the string\n",
    "#### 5. slang_replaced: Replaced the existing slangs with the correct one\n",
    "#### 6. contractions_replaced: Replaced the contractions with the correct one\n",
    "#### 7. no_punctuation: Remove punctuations from the string\n",
    "#### 8. no_numbers: Remove numbers from the string\n",
    "#### 9. spelling_corrected: Correct any mispelling in the string\n",
    "#### 10. no_stopwords: Remove all stopwords in the string\n",
    "#### 11. lemmatized: lemmatize the whole string\n",
    "#### 12. tokenized: tokenized the whole string"
   ]
  },
  {
   "cell_type": "code",
   "execution_count": 34,
   "id": "195be00e-2724-45fd-8f19-d7e10fecacf8",
   "metadata": {},
   "outputs": [],
   "source": [
    "# Remove any URLs that start with \"http\" or \"www\" from the text \n",
    "def remove_urls(text): \n",
    "    return re.sub(r'http\\S+|www\\S+', '', text)"
   ]
  },
  {
   "cell_type": "code",
   "execution_count": 35,
   "id": "2ec680ba-d747-4bfa-a6f7-24808b072d45",
   "metadata": {},
   "outputs": [],
   "source": [
    "# extracts only the text, removing all HTML tags \n",
    "def remove_html(text): \n",
    "    return BeautifulSoup(text, \"html.parser\").get_text()"
   ]
  },
  {
   "cell_type": "code",
   "execution_count": 36,
   "id": "744a609d-1aa2-49c5-9637-ee8fe8c53ca3",
   "metadata": {},
   "outputs": [],
   "source": [
    "# replace emoji with '' \n",
    "def remove_emojis(text): \n",
    "    return emoji.replace_emoji(text, replace='')"
   ]
  },
  {
   "cell_type": "code",
   "execution_count": 37,
   "id": "f977394a-90fa-4cd5-8b3a-77dfaaf7ca4d",
   "metadata": {},
   "outputs": [],
   "source": [
    "# Replace internet slang/chat words \n",
    "def replace_slang(text): \n",
    "    # Create a list of escaped slang words \n",
    "    escaped_slang_words = []  # Empty list to store escaped slang words \n",
    " \n",
    "    for word in slang_dict.keys(): \n",
    "        escaped_word = re.escape(word)  # Ensure special characters are escaped \n",
    "        escaped_slang_words.append(escaped_word)  # Add to list \n",
    " \n",
    "    # Join the words using '|' \n",
    "    slang_pattern = r'\\b(' + '|'.join(escaped_slang_words) + r')\\b' \n",
    " \n",
    "    # Define a replacement function \n",
    "    def replace_match(match): \n",
    "        slang_word = match.group(0)  # Extract matched slang word \n",
    "        return slang_dict[slang_word.lower()]  # Replace with full form \n",
    " \n",
    "    # Use regex to replace slang words with full forms \n",
    "    replaced_text = re.sub(slang_pattern, replace_match, text, flags=re.IGNORECASE) \n",
    " \n",
    "    return replaced_text"
   ]
  },
  {
   "cell_type": "code",
   "execution_count": 38,
   "id": "973d6eb2-63c6-42cb-b83a-50453ba705be",
   "metadata": {},
   "outputs": [],
   "source": [
    "# Function to expand contractions \n",
    "# Build the regex pattern for contractions \n",
    "escaped_contractions = []  # List to store escaped contractions \n",
    " \n",
    "for contraction in contractions_dict.keys(): \n",
    "    escaped_contraction = re.escape(contraction)  # Escape special characters (e.g., apostrophes) \n",
    "    escaped_contractions.append(escaped_contraction)  # Add to list \n",
    " \n",
    "# Join the escaped contractions with '|' \n",
    "joined_contractions = \"|\".join(escaped_contractions) \n",
    " \n",
    "# Create a regex pattern with word boundaries (\\b) \n",
    "contractions_pattern = r'\\b(' + joined_contractions + r')\\b' \n",
    " \n",
    "# Compile the regex \n",
    "compiled_pattern = re.compile(contractions_pattern, flags=re.IGNORECASE) \n",
    " \n",
    "# Define a function to replace contractions \n",
    "def replace_contractions(text): \n",
    "    # Function to handle each match found \n",
    "    def replace_match(match): \n",
    "        matched_word = match.group(0)  # Extract matched contraction \n",
    "        lower_matched_word = matched_word.lower()  # Convert to lowercase \n",
    "        expanded_form = contractions_dict[lower_matched_word]  # Get full form from dictionary \n",
    "        return expanded_form  # Return the expanded form \n",
    " \n",
    "    # Apply regex substitution \n",
    "    expanded_text = compiled_pattern.sub(replace_match, text) \n",
    "    return expanded_text  # Return modified text"
   ]
  },
  {
   "cell_type": "code",
   "execution_count": 39,
   "id": "71d09bce-875e-4de1-9afc-6c0e17290df5",
   "metadata": {},
   "outputs": [],
   "source": [
    "# Function to remove punctuation \n",
    "def remove_punctuation(text): \n",
    "    return text.translate(str.maketrans('', '', string.punctuation))"
   ]
  },
  {
   "cell_type": "code",
   "execution_count": 40,
   "id": "af7392a5-3cbc-4a74-9d5a-e15997d989e5",
   "metadata": {},
   "outputs": [],
   "source": [
    "# Function to remove numbers \n",
    "def remove_numbers(text): \n",
    "    return re.sub(r'\\d+', '', text)"
   ]
  },
  {
   "cell_type": "code",
   "execution_count": 41,
   "id": "731c4699-fb30-42b2-a23b-3482e8de4075",
   "metadata": {},
   "outputs": [],
   "source": [
    "# Function to correct spelling using AutoCorrect \n",
    "def correct_spelling(text): \n",
    "    return spell(text)  # Apply correction"
   ]
  },
  {
   "cell_type": "code",
   "execution_count": 42,
   "id": "d864128a-69d9-4ec7-a97f-64b5d4593639",
   "metadata": {},
   "outputs": [],
   "source": [
    "# Function to remove stopwords \n",
    "def remove_stopwords(text): \n",
    "    words = text.split() \n",
    "    filtered_words = [word for word in words if word.lower() not in stop_words] \n",
    "    return \" \".join(filtered_words) "
   ]
  },
  {
   "cell_type": "code",
   "execution_count": 43,
   "id": "e7001fa4-6450-434a-80c0-a0634a015ca2",
   "metadata": {},
   "outputs": [],
   "source": [
    "# Function to map NLTK POS tags to WordNet POS tags \n",
    "def get_wordnet_pos(nltk_tag): \n",
    "    if nltk_tag.startswith('J'):  # Adjective \n",
    "        return wordnet.ADJ \n",
    "    elif nltk_tag.startswith('V'):  # Verb \n",
    "        return wordnet.VERB \n",
    "    elif nltk_tag.startswith('N'):  # Noun \n",
    "        return wordnet.NOUN \n",
    "    elif nltk_tag.startswith('R'):  # Adverb \n",
    "        return wordnet.ADV \n",
    "    else: \n",
    "        return wordnet.NOUN  # Default to noun"
   ]
  },
  {
   "cell_type": "code",
   "execution_count": 44,
   "id": "8ed1c499-a954-4672-871b-e78ad6c34205",
   "metadata": {},
   "outputs": [],
   "source": [
    "# Function to lemmatize text with POS tagging \n",
    "def lemmatize_text(text): \n",
    "    if not isinstance(text, str):  # Ensure input is a string \n",
    "        return \"\" \n",
    " \n",
    "    words = word_tokenize(text)  # Tokenize text into words \n",
    "    pos_tags = pos_tag(words)  # Get POS tags \n",
    "    # Lemmatize each word with its correct POS tag \n",
    "    lemmatized_words = [lemmatizer.lemmatize(word, get_wordnet_pos(tag)) for word, tag in pos_tags] \n",
    "    return \" \".join(lemmatized_words)  # Join words back into a sentence "
   ]
  },
  {
   "cell_type": "code",
   "execution_count": 45,
   "id": "62f7e89b-02cb-4b1a-add8-d8ea0c48cbd6",
   "metadata": {},
   "outputs": [],
   "source": [
    "# Function to tokenize text \n",
    "def tokenize_text(text): \n",
    "    if not isinstance(text, str):  # Ensure the input is a string \n",
    "        return [] \n",
    "    return word_tokenize(text)  # Tokenize text into words"
   ]
  },
  {
   "cell_type": "code",
   "execution_count": 46,
   "id": "e842c46d-e533-4697-b0dc-7d2649ba841a",
   "metadata": {},
   "outputs": [
    {
     "name": "stderr",
     "output_type": "stream",
     "text": [
      "C:\\Users\\Asus\\AppData\\Local\\Temp\\ipykernel_16884\\1948963972.py:3: MarkupResemblesLocatorWarning: The input looks more like a filename than markup. You may want to open this file and pass the filehandle into Beautiful Soup.\n",
      "  return BeautifulSoup(text, \"html.parser\").get_text()\n"
     ]
    }
   ],
   "source": [
    "# Apply preprocessing pipeline\n",
    "df['lowercase'] = df['Review'].str.lower()\n",
    "df['no_urls'] = df['lowercase'].apply(remove_urls)\n",
    "df['no_html'] = df['no_urls'].apply(remove_html)\n",
    "df['no_emojis'] = df['no_html'].apply(remove_emojis)\n",
    "df['slang_replaced'] = df['no_emojis'].apply(replace_slang)\n",
    "df['contractions_replaced'] = df['slang_replaced'].apply(replace_contractions)\n",
    "df['no_punctuation'] = df['contractions_replaced'].apply(remove_punctuation)\n",
    "df['no_numbers'] = df['no_punctuation'].apply(remove_numbers)\n",
    "df['spelling_corrected'] = df['no_numbers'].apply(correct_spelling)\n",
    "df['no_stopwords'] = df['spelling_corrected'].apply(remove_stopwords)\n",
    "df['lemmatized'] = df['no_stopwords'].apply(lemmatize_text)\n",
    "df['tokenized'] = df['lemmatized'].apply(tokenize_text)\n",
    "df['processed_review'] = df['tokenized']"
   ]
  },
  {
   "cell_type": "code",
   "execution_count": 47,
   "id": "b9f9359a-504a-4b98-82eb-5abb149d89ab",
   "metadata": {},
   "outputs": [
    {
     "name": "stdout",
     "output_type": "stream",
     "text": [
      "Index(['username', 'Past Action', 'Time', 'Review', 'lowercase', 'no_urls',\n",
      "       'no_html', 'no_emojis', 'slang_replaced', 'contractions_replaced',\n",
      "       'no_punctuation', 'no_numbers', 'spelling_corrected', 'no_stopwords',\n",
      "       'lemmatized', 'tokenized', 'processed_review'],\n",
      "      dtype='object')\n"
     ]
    }
   ],
   "source": [
    "print(df.columns)"
   ]
  },
  {
   "cell_type": "code",
   "execution_count": 48,
   "id": "8eb7e689-403c-4fbb-93a5-2d4218ee326c",
   "metadata": {},
   "outputs": [],
   "source": [
    "# Save the cleaned dataset \n",
    "df.to_csv(\"processed-reviewsv2.csv\", index=False) "
   ]
  },
  {
   "cell_type": "code",
   "execution_count": 50,
   "id": "601abafe-cc86-45b3-9805-431ce5a9fbea",
   "metadata": {},
   "outputs": [
    {
     "name": "stdout",
     "output_type": "stream",
     "text": [
      "                                                                                                                                                                                                                                                                          Review  \\\n",
      "0                             I recently visited Suka Desert and tried a variety of their offerings. The pancake was exceptionally fluffy and enjoyable, while the vanilla 3-phase ice cream was delightful overall, though the melted chocolate phase was overly sweet for my …   \n",
      "1                                                                                                                                                                     My review is simple because I love chocolate. Of course, it’s sweet—after all, that’s what chocolate is! …   \n",
      "2                             Not sure why people are so hype about this. They sure have various dessert but the cakes taste just like the ones you'd get at regular bakery. They are pricey as claimed to be using premium ingredients. But i probably would not come back to …   \n",
      "3                                                                Love it! Cake in bowl definitely so delicious not so sweet just nice to eat. Croissant much better if the texture more crispy it would be great. The cafe surrounding look really nice and suitable to dine in.   \n",
      "4  The queue always long, tapi laju! So u dont have to worry standing for so long outside. Less people dine in as most want to tapau desserts. so u can get in quicker. Strawberry so fresh and juicy. Please get that. Bought brownies nutella as well for birthday. Lovin it❤️   \n",
      "\n",
      "                                                                                                                                                                                                           processed_review  \n",
      "0                    [recently, visit, ska, desert, try, variety, offering, pancake, exceptionally, fluffy, enjoyable, vanilla, phase, ice, cream, delightful, overall, though, melted, chocolate, phase, overly, sweet, …]  \n",
      "1                                                                                                                                [review, simple, love, chocolate, course, it, ’, s, sweet—after, that, ’, s, chocolate, …]  \n",
      "2                                                 [sure, people, hype, sure, various, dessert, cake, taste, like, one, would, get, regular, bakery, price, claim, use, premium, ingredient, probably, would, come, back, …]  \n",
      "3                                                      [love, cake, bowl, definitely, delicious, sweet, nice, eat, croissant, much, good, texture, crisp, would, great, cafe, surround, look, really, nice, suitable, dine]  \n",
      "4  [queue, always, long, tape, lau, u, dont, worry, stand, long, outside, less, people, dine, want, japan, dessert, u, get, quick, strawberry, fresh, juicy, please, get, bought, brownish, novella, well, birthday, login]  \n"
     ]
    }
   ],
   "source": [
    "# Display the first few rows \n",
    "print(df[[\"Review\", \"processed_review\"]].head()) "
   ]
  },
  {
   "cell_type": "code",
   "execution_count": null,
   "id": "2a69ab0f-e646-4125-9aed-e6026212917b",
   "metadata": {},
   "outputs": [],
   "source": []
  }
 ],
 "metadata": {
  "kernelspec": {
   "display_name": "Python 3 (ipykernel)",
   "language": "python",
   "name": "python3"
  },
  "language_info": {
   "codemirror_mode": {
    "name": "ipython",
    "version": 3
   },
   "file_extension": ".py",
   "mimetype": "text/x-python",
   "name": "python",
   "nbconvert_exporter": "python",
   "pygments_lexer": "ipython3",
   "version": "3.12.4"
  }
 },
 "nbformat": 4,
 "nbformat_minor": 5
}
