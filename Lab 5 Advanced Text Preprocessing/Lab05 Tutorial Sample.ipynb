{
 "cells": [
  {
   "cell_type": "markdown",
   "id": "3f3f7a72-f47f-4e18-9eb1-a952edf276e3",
   "metadata": {},
   "source": [
    "## Lab 05: Advanced Text Pre-Processing\n",
    "#### Bag of Words Implementation"
   ]
  },
  {
   "cell_type": "code",
   "execution_count": 4,
   "id": "192873fb-a61d-4fb0-8d71-6b5a83da46f5",
   "metadata": {},
   "outputs": [],
   "source": [
    "from collections import Counter #To count word occurrences\n",
    "import pandas as pd"
   ]
  },
  {
   "cell_type": "code",
   "execution_count": 5,
   "id": "5e859784-b4c5-4c56-876c-fa2ea5daad1f",
   "metadata": {},
   "outputs": [],
   "source": [
    "file_path = \"Processed_Reviews.csv\"\n",
    "df = pd.read_csv(file_path)"
   ]
  },
  {
   "cell_type": "code",
   "execution_count": 6,
   "id": "bf147d88-789c-4ea9-96a3-f5b4fcf8954f",
   "metadata": {},
   "outputs": [],
   "source": [
    "tokenized_reviews = df['tokenized'].dropna().apply(eval)"
   ]
  },
  {
   "cell_type": "code",
   "execution_count": 7,
   "id": "e36add09-25b8-4a4d-8ab1-1fd228fdcf4f",
   "metadata": {},
   "outputs": [],
   "source": [
    "all_words = [word for review in tokenized_reviews for word in review]\n",
    "unique_words = list(set(all_words))"
   ]
  },
  {
   "cell_type": "code",
   "execution_count": 9,
   "id": "88969b97-624e-40f5-866a-39e6e2d91bd4",
   "metadata": {},
   "outputs": [],
   "source": [
    "word_freq = Counter(all_words)\n",
    "sorted_word_freq = dict(sorted(word_freq.items(), key=lambda item: item[1], reverse=True))"
   ]
  },
  {
   "cell_type": "code",
   "execution_count": 11,
   "id": "70e56464-b616-47f7-81c2-caeb22b34259",
   "metadata": {},
   "outputs": [],
   "source": [
    "document_vectors = []\n",
    "for review in tokenized_reviews:\n",
    "    document_vector = [1 if word in review else 0 for word in sorted_word_freq.keys()]\n",
    "    document_vectors.append(document_vector)"
   ]
  },
  {
   "cell_type": "code",
   "execution_count": 12,
   "id": "2915b6e8-0baf-423a-a369-eb401d1d56d6",
   "metadata": {},
   "outputs": [],
   "source": [
    "doc_vectors_df = pd.DataFrame(document_vectors, columns=sorted_word_freq.keys())"
   ]
  },
  {
   "cell_type": "code",
   "execution_count": 13,
   "id": "21eeaa53-0156-45dd-96d0-50a4cda36447",
   "metadata": {},
   "outputs": [],
   "source": [
    "doc_vectors_df.to_csv(\"document_vector.csv\", index=False)"
   ]
  },
  {
   "cell_type": "code",
   "execution_count": 14,
   "id": "44987616-1fae-4e53-9248-a44ec5e04827",
   "metadata": {},
   "outputs": [
    {
     "name": "stdout",
     "output_type": "stream",
     "text": [
      "Word Frequency Table:\n",
      "           Word  Frequency\n",
      "0       product          7\n",
      "1       quality          3\n",
      "2         great          2\n",
      "3       amazing          2\n",
      "4          love          2\n",
      "5       awesome          2\n",
      "6          work          2\n",
      "7     perfectly          2\n",
      "8          life          2\n",
      "9        expect          2\n",
      "10       arrive          1\n",
      "11         time          1\n",
      "12    packaging          1\n",
      "13        amaze          1\n",
      "14          buy          1\n",
      "15        phone          1\n",
      "16           hz          1\n",
      "17      display          1\n",
      "18      totally          1\n",
      "19        worth          1\n",
      "20          wow          1\n",
      "21          bit          1\n",
      "22    expensive          1\n",
      "23       laptop          1\n",
      "24         fine          1\n",
      "25        check          1\n",
      "26         full          1\n",
      "27       detail          1\n",
      "28     purchase          1\n",
      "29        happy          1\n",
      "30      battery          1\n",
      "31    excellent          1\n",
      "32       charge          1\n",
      "33        cable          1\n",
      "34        short          1\n",
      "35          can          1\n",
      "36          not          1\n",
      "37      believe          1\n",
      "38         good          1\n",
      "39         fast          1\n",
      "40     delivery          1\n",
      "41       honest          1\n",
      "42         wasn          1\n",
      "43            ’          1\n",
      "44            t          1\n",
      "45         much          1\n",
      "46           oh          1\n",
      "47          god          1\n",
      "48         best          1\n",
      "49         ever          1\n",
      "50          use          1\n",
      "51         shoe          1\n",
      "52  comfortable          1\n",
      "53          fit          1\n",
      "54       nicely          1\n",
      "55          jog          1\n"
     ]
    }
   ],
   "source": [
    "word_freq_df = pd.DataFrame(list(sorted_word_freq.items()), columns=[\"Word\", \"Frequency\"])\n",
    "print(\"Word Frequency Table:\")\n",
    "print(word_freq_df)"
   ]
  },
  {
   "cell_type": "markdown",
   "id": "ec172436-bf1d-4bfc-b6be-7e77e6eddab7",
   "metadata": {},
   "source": [
    "#### TF-IDF Implementation"
   ]
  },
  {
   "cell_type": "code",
   "execution_count": 15,
   "id": "93aacde2-fbfe-4a40-ae1f-cf4685b21247",
   "metadata": {},
   "outputs": [],
   "source": [
    "# Import necessary libraries\n",
    "import pandas as pd\n",
    "import math # Will be used for logarithmic function\n",
    "from collections import Counter"
   ]
  },
  {
   "cell_type": "code",
   "execution_count": 16,
   "id": "177f70b8-6411-43ed-9956-b4785909c0d3",
   "metadata": {},
   "outputs": [],
   "source": [
    "# Load pre-processed file\n",
    "file_path = \"Processed_Reviews.csv\"\n",
    "df = pd.read_csv(file_path)"
   ]
  },
  {
   "cell_type": "code",
   "execution_count": 18,
   "id": "ac1310e9-f14b-4fba-8964-776038144b96",
   "metadata": {},
   "outputs": [],
   "source": [
    "# Extract the tokenized text data\n",
    "tokenized_reviews = df['tokenized'].dropna().apply(eval)"
   ]
  },
  {
   "cell_type": "code",
   "execution_count": 33,
   "id": "ccc4e2b5-5a96-4e08-beb0-b8ccd7025503",
   "metadata": {},
   "outputs": [],
   "source": [
    "# Function to compute Term Frequency (TF)\n",
    "def compute_tf(document):\n",
    "    word_count = Counter(document)\n",
    "    tf = {word: count/len(document) for word, count in word_count.items()}\n",
    "    return tf\n",
    "\n",
    "# Function to compute Inverse Document Frequency (IDF)\n",
    "def compute_idf(documents):\n",
    "    N = len(documents) # Total number of documents\n",
    "    idf = {}\n",
    "    all_words = set(word for doc in documents for word in doc) # Unique words\n",
    "    for word in all_words:\n",
    "        count = sum(1 for doc in documents if word in doc)\n",
    "        idf[word] = math.log(N/count)\n",
    "    return idf"
   ]
  },
  {
   "cell_type": "code",
   "execution_count": 37,
   "id": "17e9bf54-0b79-415c-b618-8c725795ac8e",
   "metadata": {},
   "outputs": [],
   "source": [
    "# Function to compute TF-IDF\n",
    "def compute_tfidf(document, idf):\n",
    "    tfidf = {}\n",
    "    tf = compute_tf(document) # Get TF values for the document\n",
    "    for word, tf_value in tf.items():\n",
    "        tfidf[word] = tf_value * idf[word] # Multiply TF and IDF\n",
    "    return tfidf"
   ]
  },
  {
   "cell_type": "code",
   "execution_count": 38,
   "id": "ad0e7c45-47ac-49dd-8f65-31c00321ea8c",
   "metadata": {},
   "outputs": [],
   "source": [
    "# Tokenized reviews into a list\n",
    "documents = tokenized_reviews.tolist()"
   ]
  },
  {
   "cell_type": "code",
   "execution_count": 39,
   "id": "b27ebb54-d15a-403f-84f1-09a317febe41",
   "metadata": {},
   "outputs": [],
   "source": [
    "# Compute TF scores, convert to DataFrame and save to a CSV file\n",
    "tf_data = [compute_tf(doc) for doc in documents]\n",
    "tf_df = pd.DataFrame(tf_data).fillna(0)\n",
    "tf_df.to_csv(\"tf_scores.csv\", index=False)\n",
    "\n",
    "# Compute IDF scores, convert to DataFrame and save to a CSV file\n",
    "idf = compute_idf(documents)\n",
    "idf_df = pd.DataFrame([idf]).fillna(0)\n",
    "idf_df.to_csv(\"idf_scores.csv\", index=False)\n",
    "\n",
    "# Compute TF-IDF scores, conver to DataFrame and save to a CSV file\n",
    "tfidf_data = [compute_tfidf(doc, idf) for doc in documents]\n",
    "tfidf_df = pd.DataFrame(tfidf_data).fillna(0)\n",
    "tfidf_df.to_csv(\"tfidf_scores.csv\", index=False)"
   ]
  }
 ],
 "metadata": {
  "kernelspec": {
   "display_name": "Python 3 (ipykernel)",
   "language": "python",
   "name": "python3"
  },
  "language_info": {
   "codemirror_mode": {
    "name": "ipython",
    "version": 3
   },
   "file_extension": ".py",
   "mimetype": "text/x-python",
   "name": "python",
   "nbconvert_exporter": "python",
   "pygments_lexer": "ipython3",
   "version": "3.12.4"
  }
 },
 "nbformat": 4,
 "nbformat_minor": 5
}
