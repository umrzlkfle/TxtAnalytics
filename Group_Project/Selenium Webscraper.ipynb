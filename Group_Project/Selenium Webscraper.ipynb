{
 "cells": [
  {
   "cell_type": "code",
   "execution_count": 1,
   "id": "9ea77d6b-4d3f-47c0-840a-e4b369ef261b",
   "metadata": {},
   "outputs": [
    {
     "name": "stdout",
     "output_type": "stream",
     "text": [
      "Requirement already satisfied: selenium in c:\\users\\asus\\anaconda3\\lib\\site-packages (4.29.0)\n",
      "Requirement already satisfied: pandas in c:\\users\\asus\\anaconda3\\lib\\site-packages (2.2.2)\n",
      "Requirement already satisfied: urllib3<3,>=1.26 in c:\\users\\asus\\anaconda3\\lib\\site-packages (from urllib3[socks]<3,>=1.26->selenium) (2.2.2)\n",
      "Requirement already satisfied: trio~=0.17 in c:\\users\\asus\\anaconda3\\lib\\site-packages (from selenium) (0.29.0)\n",
      "Requirement already satisfied: trio-websocket~=0.9 in c:\\users\\asus\\anaconda3\\lib\\site-packages (from selenium) (0.12.2)\n",
      "Requirement already satisfied: certifi>=2021.10.8 in c:\\users\\asus\\anaconda3\\lib\\site-packages (from selenium) (2025.1.31)\n",
      "Requirement already satisfied: typing_extensions~=4.9 in c:\\users\\asus\\anaconda3\\lib\\site-packages (from selenium) (4.11.0)\n",
      "Requirement already satisfied: websocket-client~=1.8 in c:\\users\\asus\\anaconda3\\lib\\site-packages (from selenium) (1.8.0)\n",
      "Requirement already satisfied: numpy>=1.26.0 in c:\\users\\asus\\anaconda3\\lib\\site-packages (from pandas) (1.26.4)\n",
      "Requirement already satisfied: python-dateutil>=2.8.2 in c:\\users\\asus\\anaconda3\\lib\\site-packages (from pandas) (2.9.0.post0)\n",
      "Requirement already satisfied: pytz>=2020.1 in c:\\users\\asus\\anaconda3\\lib\\site-packages (from pandas) (2024.1)\n",
      "Requirement already satisfied: tzdata>=2022.7 in c:\\users\\asus\\anaconda3\\lib\\site-packages (from pandas) (2023.3)\n",
      "Requirement already satisfied: six>=1.5 in c:\\users\\asus\\anaconda3\\lib\\site-packages (from python-dateutil>=2.8.2->pandas) (1.16.0)\n",
      "Requirement already satisfied: attrs>=23.2.0 in c:\\users\\asus\\anaconda3\\lib\\site-packages (from trio~=0.17->selenium) (24.3.0)\n",
      "Requirement already satisfied: sortedcontainers in c:\\users\\asus\\anaconda3\\lib\\site-packages (from trio~=0.17->selenium) (2.4.0)\n",
      "Requirement already satisfied: idna in c:\\users\\asus\\anaconda3\\lib\\site-packages (from trio~=0.17->selenium) (3.7)\n",
      "Requirement already satisfied: outcome in c:\\users\\asus\\anaconda3\\lib\\site-packages (from trio~=0.17->selenium) (1.3.0.post0)\n",
      "Requirement already satisfied: sniffio>=1.3.0 in c:\\users\\asus\\anaconda3\\lib\\site-packages (from trio~=0.17->selenium) (1.3.0)\n",
      "Requirement already satisfied: cffi>=1.14 in c:\\users\\asus\\anaconda3\\lib\\site-packages (from trio~=0.17->selenium) (1.16.0)\n",
      "Requirement already satisfied: wsproto>=0.14 in c:\\users\\asus\\anaconda3\\lib\\site-packages (from trio-websocket~=0.9->selenium) (1.2.0)\n",
      "Requirement already satisfied: pysocks!=1.5.7,<2.0,>=1.5.6 in c:\\users\\asus\\anaconda3\\lib\\site-packages (from urllib3[socks]<3,>=1.26->selenium) (1.7.1)\n",
      "Requirement already satisfied: pycparser in c:\\users\\asus\\anaconda3\\lib\\site-packages (from cffi>=1.14->trio~=0.17->selenium) (2.21)\n",
      "Requirement already satisfied: h11<1,>=0.9.0 in c:\\users\\asus\\anaconda3\\lib\\site-packages (from wsproto>=0.14->trio-websocket~=0.9->selenium) (0.14.0)\n",
      "Note: you may need to restart the kernel to use updated packages.\n"
     ]
    }
   ],
   "source": [
    "pip install selenium pandas"
   ]
  },
  {
   "cell_type": "code",
   "execution_count": 5,
   "id": "b43d6ffc-34e1-4d8e-b04a-da79731bf87a",
   "metadata": {},
   "outputs": [],
   "source": [
    "from selenium import webdriver\n",
    "from selenium.webdriver.common.by import By\n",
    "from selenium.webdriver.chrome.options import Options\n",
    "import time\n",
    "\n",
    "# Setup Chrome options\n",
    "options = Options()\n",
    "options.add_argument(\"--start-maximized\")  # optional\n",
    "# options.add_argument(\"--headless\")  # uncomment to run headless\n",
    "\n",
    "# Start the driver\n",
    "driver = webdriver.Chrome(options=options)\n",
    "\n",
    "# Go to Google Maps search result of a place\n",
    "search_query = \"Suka+Dessert/@3.2414465,101.6493204,17z/data=!4m8!3m7!1s0x31cc47f4c5890dbd:0x19f2a665e68874fe!8m2!3d3.2414465!4d101.6493204!9m1!1b1!16s%2Fg%2F11h2c1vbtp!5m1!1e1?entry=ttu&g_ep=EgoyMDI1MDQwNi4wIKXMDSoASAFQAw%3D%3D\"\n",
    "driver.get(f\"https://www.google.com/maps/place/{search_query}\")\n",
    "\n",
    "time.sleep(5)  # wait for the page to load\n",
    "\n",
    "# Click on the reviews button\n",
    "try:\n",
    "    reviews_button = driver.find_element(By.CSS_SELECTOR, '[aria-label=\"Reviews for Suka Dessert\"]')\n",
    "    reviews_button.click()\n",
    "    time.sleep(1)\n",
    "except Exception as e:\n",
    "    print(\"Couldn't click reviews button:\", e)\n",
    "    driver.quit()\n",
    "    exit()  # Exit the script if the button couldn't be clicked\n",
    "\n",
    "# Scroll to load more reviews\n",
    "scrollable_div = driver.find_element(By.CSS_SELECTOR, \".k7jAl.miFGmb.lJ3Kh.PLbyfe\")\n",
    "\n",
    "while True:\n",
    "    # Get the initial scroll height\n",
    "    last_scroll_height = driver.execute_script('return arguments[0].scrollHeight;', scrollable_div)\n",
    "\n",
    "    # Scroll to the bottom of the div\n",
    "    driver.execute_script('arguments[0].scrollTop = arguments[0].scrollHeight;', scrollable_div)\n",
    "\n",
    "    # Wait for new content to load (adjust as needed)\n",
    "    time.sleep(2)\n",
    "\n",
    "    # Get the new scroll height\n",
    "    new_scroll_height = driver.execute_script('return arguments[0].scrollHeight;', scrollable_div)\n",
    "\n",
    "    # If the scroll height hasn't changed, we've reached the bottom\n",
    "    if new_scroll_height == last_scroll_height:\n",
    "        break\n",
    "\n",
    "# Extract reviews\n",
    "review_elems = driver.find_elements(By.XPATH, '//div[@class=\"jftiEf fontBodyMedium\"]')\n",
    "\n",
    "for i, review in enumerate(review_elems):\n",
    "    try:\n",
    "        text = review.find_element(By.CLASS_NAME, 'wiI7pd').text\n",
    "        print(f\"{i+1}. {text}\\n\")\n",
    "    except Exception as e:\n",
    "        print(f\"Could not extract text from review {i+1}: {e}\")\n",
    "        continue\n",
    "\n",
    "# Close the browser\n",
    "driver.quit()"
   ]
  },
  {
   "cell_type": "code",
   "execution_count": null,
   "id": "994f4ba5-5b4c-4023-98b0-687a8faabe5b",
   "metadata": {},
   "outputs": [],
   "source": []
  }
 ],
 "metadata": {
  "kernelspec": {
   "display_name": "Python 3 (ipykernel)",
   "language": "python",
   "name": "python3"
  },
  "language_info": {
   "codemirror_mode": {
    "name": "ipython",
    "version": 3
   },
   "file_extension": ".py",
   "mimetype": "text/x-python",
   "name": "python",
   "nbconvert_exporter": "python",
   "pygments_lexer": "ipython3",
   "version": "3.12.4"
  }
 },
 "nbformat": 4,
 "nbformat_minor": 5
}
